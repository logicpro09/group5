{
  "nbformat": 4,
  "nbformat_minor": 0,
  "metadata": {
    "colab": {
      "provenance": []
    },
    "kernelspec": {
      "name": "python3",
      "display_name": "Python 3"
    },
    "language_info": {
      "name": "python"
    }
  },
  "cells": [
    {
      "cell_type": "markdown",
      "source": [
        "Introduction\n",
        "Background on the Dataset\n",
        "\n",
        "    Dataset Source:\n",
        "    \"This data comes straight from the San Diego Police Department's RIPA (Racial and Identity Profiling Act) records. Collected by law enforcement itself, this dataset is an unfiltered look into the reality of policing practices. It’s designed to put transparency and accountability at the forefront, revealing how stops are conducted across California.\"\n",
        "\n",
        "    Description of the Dataset:\n",
        "    \"This isn’t just a spreadsheet; it’s over [number] records detailing the who, what, and why of police stops. We’re talking demographics, reasons for stops, actions taken, and more. With key data points like race, ethnicity, violation type, and officer decisions, this dataset offers a hard look at how policies and practices might favor or disadvantage specific groups.\"\n",
        "\n",
        "    Purpose of Analysis:\n",
        "    \"Our goal? To expose any patterns and disparities in police stops—raw data, real insights. We’re investigating if some groups face different outcomes based on race or other factors. This analysis will arm decision-makers with facts to address biases and raise the bar for accountability in law enforcement.\"\n",
        "\n",
        "Significance of the Problem\n",
        "\n",
        "    Contextual Importance:\n",
        "    \"Racial disparity in police stops isn’t just a statistic—it’s a critical social issue that demands attention. Fair treatment under the law isn’t optional; it’s essential. Exposing these disparities can push for real change, ensuring that law enforcement practices meet the standard that every citizen deserves.\"\n",
        "\n",
        "    Value of Insights:\n",
        "    \"By getting to the bottom of this data, we’re offering something more than just numbers. Law enforcement, policymakers, and community leaders can use these insights to take real, actionable steps. It’s about more than addressing bias—it’s about strengthening community trust and implementing policy that actually works for everyone.\"\n",
        "\n",
        "    Research Gap:\n",
        "    \"Racial profiling has been studied in a lot of places, but San Diego? Not enough. This analysis doesn’t just fill that gap; it’s a statement. It provides hard-hitting data on San Diego’s practices, something local officials and citizens can actually work with.\""
      ],
      "metadata": {
        "id": "3flfNrF9PkET"
      }
    },
    {
      "cell_type": "markdown",
      "source": [
        "1. Import Libraries and Load Data\n",
        "\n",
        "First, load the datasets into Google Colab or your Python environment. We’ll use pandas for data handling and basic analysis."
      ],
      "metadata": {
        "id": "PWOXNnUEQnNz"
      }
    },
    {
      "cell_type": "code",
      "execution_count": 8,
      "metadata": {
        "colab": {
          "base_uri": "https://localhost:8080/"
        },
        "id": "ImxIV02-OUAT",
        "outputId": "8ea38534-0556-4013-ec67-ec97e8ce58a5"
      },
      "outputs": [
        {
          "output_type": "stream",
          "name": "stdout",
          "text": [
            "   stop_id  pid  resultkey                            result     code  \\\n",
            "0        1    1          3           Citation for infraction  42127.0   \n",
            "1        2    1          3           Citation for infraction  54303.0   \n",
            "2        3    1          2       Warning (verbal or written)  54098.0   \n",
            "3        4    1          6  Custodial Arrest without warrant  13174.0   \n",
            "4        5    1          2       Warning (verbal or written)  54306.0   \n",
            "\n",
            "                                          resulttext  \n",
            "0          12500(A) VC - DRIVE W/O LICENSE (I) 42127  \n",
            "1    22349(A) VC - EXCEED SPEED ON HIGHWAY (I) 54303  \n",
            "2  21453(A) VC - FAIL STOP LINE/ETC AT RED (I) 54098  \n",
            "3  243(E)(1) PC - BAT:SPOUSE/EX SP/DATE/ETC (M) 1...  \n",
            "4       22400(A) VC - DRIVE TOO SLOWLY/ETC (I) 54306  \n",
            "   stop_id  pid                    race\n",
            "0        1    1      Hispanic/Latino(a)\n",
            "1        2    1        Pacific Islander\n",
            "2        2    1                   White\n",
            "3        2    1  Black/African American\n",
            "4        2    1                   Asian\n",
            "                                                Fact Fact Note  \\\n",
            "0        Population estimates, July 1, 2023, (V2023)       NaN   \n",
            "1  Population estimates base, April 1, 2020, (V2023)       NaN   \n",
            "2  Population, percent change - April 1, 2020 (es...       NaN   \n",
            "3                  Population, Census, April 1, 2020       NaN   \n",
            "4                  Population, Census, April 1, 2010       NaN   \n",
            "\n",
            "  San Diego County, California  Value Note for San Diego County, California  \n",
            "0                    3,269,973                                          NaN  \n",
            "1                    3,298,648                                          NaN  \n",
            "2                        -0.9%                                          NaN  \n",
            "3                    3,298,634                                          NaN  \n",
            "4                    3,095,313                                          NaN  \n"
          ]
        }
      ],
      "source": [
        "import pandas as pd\n",
        "\n",
        "# Load datasets\n",
        "ripa_stop_result = pd.read_csv('/content/ripa_stop_result_datasd.csv')\n",
        "ripa_race = pd.read_csv('/content/ripa_race_datasd.csv')\n",
        "quick_facts = pd.read_csv('/content/QuickFacts Oct-09-2024.csv')\n",
        "\n",
        "# Preview the first few rows of each dataset\n",
        "print(ripa_stop_result.head())\n",
        "print(ripa_race.head())\n",
        "print(quick_facts.head())\n"
      ]
    },
    {
      "cell_type": "markdown",
      "source": [
        "2. Initial Data Assessment\n",
        "\n",
        "Use .info() and .describe() to identify data types, check for missing values, and see general statistics."
      ],
      "metadata": {
        "id": "Iu4bE8XOSfdI"
      }
    },
    {
      "cell_type": "code",
      "source": [
        "# Check data types and missing values for each dataset\n",
        "print(ripa_stop_result.info())\n",
        "print(ripa_race.info())\n",
        "print(quick_facts.info())\n",
        "\n",
        "# Get summary statistics for each dataset\n",
        "print(ripa_stop_result.describe())\n",
        "print(ripa_race.describe())\n",
        "print(quick_facts.describe())\n"
      ],
      "metadata": {
        "colab": {
          "base_uri": "https://localhost:8080/"
        },
        "id": "wPyD38h0SjEc",
        "outputId": "b17b4466-3f07-4c3f-ce86-b4ecb77a683c"
      },
      "execution_count": 9,
      "outputs": [
        {
          "output_type": "stream",
          "name": "stdout",
          "text": [
            "<class 'pandas.core.frame.DataFrame'>\n",
            "RangeIndex: 9471 entries, 0 to 9470\n",
            "Data columns (total 6 columns):\n",
            " #   Column      Non-Null Count  Dtype  \n",
            "---  ------      --------------  -----  \n",
            " 0   stop_id     9471 non-null   int64  \n",
            " 1   pid         9471 non-null   int64  \n",
            " 2   resultkey   9471 non-null   int64  \n",
            " 3   result      9094 non-null   object \n",
            " 4   code        7087 non-null   float64\n",
            " 5   resulttext  7087 non-null   object \n",
            "dtypes: float64(1), int64(3), object(2)\n",
            "memory usage: 444.1+ KB\n",
            "None\n",
            "<class 'pandas.core.frame.DataFrame'>\n",
            "RangeIndex: 9105 entries, 0 to 9104\n",
            "Data columns (total 3 columns):\n",
            " #   Column   Non-Null Count  Dtype \n",
            "---  ------   --------------  ----- \n",
            " 0   stop_id  9105 non-null   int64 \n",
            " 1   pid      9105 non-null   int64 \n",
            " 2   race     9105 non-null   object\n",
            "dtypes: int64(2), object(1)\n",
            "memory usage: 213.5+ KB\n",
            "None\n",
            "<class 'pandas.core.frame.DataFrame'>\n",
            "RangeIndex: 85 entries, 0 to 84\n",
            "Data columns (total 4 columns):\n",
            " #   Column                                       Non-Null Count  Dtype  \n",
            "---  ------                                       --------------  -----  \n",
            " 0   Fact                                         79 non-null     object \n",
            " 1   Fact Note                                    22 non-null     object \n",
            " 2   San Diego County, California                 64 non-null     object \n",
            " 3   Value Note for San Diego County, California  0 non-null      float64\n",
            "dtypes: float64(1), object(3)\n",
            "memory usage: 2.8+ KB\n",
            "None\n",
            "           stop_id          pid    resultkey          code\n",
            "count  9471.000000  9471.000000  9471.000000   7087.000000\n",
            "mean   4276.282547     1.151937     3.894731  50638.000141\n",
            "std    2451.522568     0.644558     2.289641  12844.585918\n",
            "min       1.000000     1.000000     1.000000      3.000000\n",
            "25%    1972.500000     1.000000     2.000000  53130.000000\n",
            "50%    4462.000000     1.000000     3.000000  54167.000000\n",
            "75%    6397.000000     1.000000     6.000000  54655.000000\n",
            "max    8318.000000    13.000000    14.000000  99999.000000\n",
            "           stop_id          pid\n",
            "count  9105.000000  9105.000000\n",
            "mean   4235.836354     1.146623\n",
            "std    2461.834018     0.638992\n",
            "min       1.000000     1.000000\n",
            "25%    1927.000000     1.000000\n",
            "50%    4411.000000     1.000000\n",
            "75%    6356.000000     1.000000\n",
            "max    8318.000000    13.000000\n",
            "       Value Note for San Diego County, California\n",
            "count                                          0.0\n",
            "mean                                           NaN\n",
            "std                                            NaN\n",
            "min                                            NaN\n",
            "25%                                            NaN\n",
            "50%                                            NaN\n",
            "75%                                            NaN\n",
            "max                                            NaN\n"
          ]
        }
      ]
    },
    {
      "cell_type": "markdown",
      "source": [],
      "metadata": {
        "id": "wDIbAW7_Pih-"
      }
    },
    {
      "cell_type": "markdown",
      "source": [
        "3. Data Cleaning and Preparation\n",
        "Step 3.1: Handle Missing Values\n",
        "\n",
        "Identify columns with missing values and decide on a strategy (e.g., drop or fill)."
      ],
      "metadata": {
        "id": "DbGa10I4VgQD"
      }
    },
    {
      "cell_type": "code",
      "source": [
        "import pandas as pd\n",
        "import numpy as np  # Import NumPy and assign it the alias 'np'\n",
        "\n",
        "# Check data types and missing values for each dataset\n",
        "print(ripa_stop_result.info())\n",
        "print(ripa_race.info())\n",
        "print(quick_facts.info())\n",
        "\n",
        "# Get summary statistics for each dataset\n",
        "print(ripa_stop_result.describe())\n",
        "print(ripa_race.describe())\n",
        "print(quick_facts.describe())\n",
        "\n",
        "# Check missing values\n",
        "print(ripa_stop_result.isnull().sum())\n",
        "print(ripa_race.isnull().sum())\n",
        "print(quick_facts.isnull().sum())\n",
        "\n",
        "# Get the actual column names from the DataFrame\n",
        "ripa_stop_result_columns = ripa_stop_result.columns.tolist()\n",
        "\n",
        "# Print the column names to verify (optional but helpful for debugging)\n",
        "print(\"Columns in ripa_stop_result:\", ripa_stop_result_columns)\n",
        "\n",
        "# Replace 'column1', 'column2' with actual column names from ripa_stop_result_columns\n",
        "# Example:\n",
        "# ripa_stop_result.dropna(subset=['actual_column_name1', 'actual_column_name2'], inplace=True)\n",
        "# Choose the appropriate column names based on the output of ripa_stop_result_columns\n",
        "# Make sure the selected columns are the ones where you want to drop rows with missing values.\n",
        "ripa_stop_result.dropna(subset=[ripa_stop_result_columns[0], ripa_stop_result_columns[1]], inplace=True)  # Drop only critical columns\n",
        "\n",
        "ripa_race.fillna({'column_name': 'Unknown'}, inplace=True)  # Example fill for categorical data\n",
        "\n",
        "# Convert problematic columns in quick_facts to numeric, coerce errors to NaN\n",
        "for column in quick_facts.select_dtypes(include=['object']).columns:  # Select object type columns\n",
        "    try:\n",
        "        quick_facts[column] = pd.to_numeric(quick_facts[column], errors='coerce')  # Coerce errors to NaN\n",
        "    except ValueError:\n",
        "        print(f\"Could not convert column '{column}' to numeric.\")\n",
        "\n",
        "# Now fill NaN values with the mean for numeric columns only\n",
        "quick_facts.fillna(quick_facts.select_dtypes(include=np.number).mean(), inplace=True)  # Example fill for numerical data, select numeric columns only"
      ],
      "metadata": {
        "colab": {
          "base_uri": "https://localhost:8080/"
        },
        "id": "RkvLjCXkWehf",
        "outputId": "38e10584-63ae-4d9e-81cd-ec731d8a86af"
      },
      "execution_count": 10,
      "outputs": [
        {
          "output_type": "stream",
          "name": "stdout",
          "text": [
            "<class 'pandas.core.frame.DataFrame'>\n",
            "RangeIndex: 9471 entries, 0 to 9470\n",
            "Data columns (total 6 columns):\n",
            " #   Column      Non-Null Count  Dtype  \n",
            "---  ------      --------------  -----  \n",
            " 0   stop_id     9471 non-null   int64  \n",
            " 1   pid         9471 non-null   int64  \n",
            " 2   resultkey   9471 non-null   int64  \n",
            " 3   result      9094 non-null   object \n",
            " 4   code        7087 non-null   float64\n",
            " 5   resulttext  7087 non-null   object \n",
            "dtypes: float64(1), int64(3), object(2)\n",
            "memory usage: 444.1+ KB\n",
            "None\n",
            "<class 'pandas.core.frame.DataFrame'>\n",
            "RangeIndex: 9105 entries, 0 to 9104\n",
            "Data columns (total 3 columns):\n",
            " #   Column   Non-Null Count  Dtype \n",
            "---  ------   --------------  ----- \n",
            " 0   stop_id  9105 non-null   int64 \n",
            " 1   pid      9105 non-null   int64 \n",
            " 2   race     9105 non-null   object\n",
            "dtypes: int64(2), object(1)\n",
            "memory usage: 213.5+ KB\n",
            "None\n",
            "<class 'pandas.core.frame.DataFrame'>\n",
            "RangeIndex: 85 entries, 0 to 84\n",
            "Data columns (total 4 columns):\n",
            " #   Column                                       Non-Null Count  Dtype  \n",
            "---  ------                                       --------------  -----  \n",
            " 0   Fact                                         79 non-null     object \n",
            " 1   Fact Note                                    22 non-null     object \n",
            " 2   San Diego County, California                 64 non-null     object \n",
            " 3   Value Note for San Diego County, California  0 non-null      float64\n",
            "dtypes: float64(1), object(3)\n",
            "memory usage: 2.8+ KB\n",
            "None\n",
            "           stop_id          pid    resultkey          code\n",
            "count  9471.000000  9471.000000  9471.000000   7087.000000\n",
            "mean   4276.282547     1.151937     3.894731  50638.000141\n",
            "std    2451.522568     0.644558     2.289641  12844.585918\n",
            "min       1.000000     1.000000     1.000000      3.000000\n",
            "25%    1972.500000     1.000000     2.000000  53130.000000\n",
            "50%    4462.000000     1.000000     3.000000  54167.000000\n",
            "75%    6397.000000     1.000000     6.000000  54655.000000\n",
            "max    8318.000000    13.000000    14.000000  99999.000000\n",
            "           stop_id          pid\n",
            "count  9105.000000  9105.000000\n",
            "mean   4235.836354     1.146623\n",
            "std    2461.834018     0.638992\n",
            "min       1.000000     1.000000\n",
            "25%    1927.000000     1.000000\n",
            "50%    4411.000000     1.000000\n",
            "75%    6356.000000     1.000000\n",
            "max    8318.000000    13.000000\n",
            "       Value Note for San Diego County, California\n",
            "count                                          0.0\n",
            "mean                                           NaN\n",
            "std                                            NaN\n",
            "min                                            NaN\n",
            "25%                                            NaN\n",
            "50%                                            NaN\n",
            "75%                                            NaN\n",
            "max                                            NaN\n",
            "stop_id          0\n",
            "pid              0\n",
            "resultkey        0\n",
            "result         377\n",
            "code          2384\n",
            "resulttext    2384\n",
            "dtype: int64\n",
            "stop_id    0\n",
            "pid        0\n",
            "race       0\n",
            "dtype: int64\n",
            "Fact                                            6\n",
            "Fact Note                                      63\n",
            "San Diego County, California                   21\n",
            "Value Note for San Diego County, California    85\n",
            "dtype: int64\n",
            "Columns in ripa_stop_result: ['stop_id', 'pid', 'resultkey', 'result', 'code', 'resulttext']\n"
          ]
        }
      ]
    },
    {
      "cell_type": "markdown",
      "source": [
        "Step 3.1: Identify and Drop Rows with Missing Values (Critical Columns)\n",
        "\n",
        "First, print out the column names in ripa_stop_result to identify which columns contain missing values and decide on which columns are critical to your analysis."
      ],
      "metadata": {
        "id": "Njf7Q9QbXi0B"
      }
    },
    {
      "cell_type": "code",
      "source": [
        "# Print column names to identify relevant ones\n",
        "ripa_stop_result_columns = ripa_stop_result.columns.tolist()\n",
        "print(\"Columns in ripa_stop_result:\", ripa_stop_result_columns)\n",
        "\n",
        "# Drop rows with missing values in critical columns (update with actual column names)\n",
        "ripa_stop_result.dropna(subset=[ripa_stop_result_columns[0], ripa_stop_result_columns[1]], inplace=True)\n"
      ],
      "metadata": {
        "colab": {
          "base_uri": "https://localhost:8080/"
        },
        "id": "t4efOo0rXc6r",
        "outputId": "68e111de-3fa7-434e-ebbf-7bb96e3533e5"
      },
      "execution_count": 11,
      "outputs": [
        {
          "output_type": "stream",
          "name": "stdout",
          "text": [
            "Columns in ripa_stop_result: ['stop_id', 'pid', 'resultkey', 'result', 'code', 'resulttext']\n"
          ]
        }
      ]
    },
    {
      "cell_type": "markdown",
      "source": [
        "Step 3.2: Fill Missing Categorical Data in ripa_race\n",
        "\n",
        "Fill missing values in ripa_race with placeholder values where needed (replace 'column_name' with actual column names)."
      ],
      "metadata": {
        "id": "bYlL4P83XmzU"
      }
    },
    {
      "cell_type": "code",
      "source": [
        "ripa_race.fillna({'column_name': 'Unknown'}, inplace=True)  # Replace 'column_name' as appropriate\n"
      ],
      "metadata": {
        "id": "jZPOlxH1Xq3G"
      },
      "execution_count": 12,
      "outputs": []
    },
    {
      "cell_type": "markdown",
      "source": [
        "Step 3.3: Convert Object Columns to Numeric in quick_facts and Fill NaNs\n",
        "\n",
        "    Convert object columns to numeric where possible, coercing errors to NaN.\n",
        "    Fill NaN values in numeric columns with the mean.\n",
        "\n",
        "python"
      ],
      "metadata": {
        "id": "GN7RoT4pX5gR"
      }
    },
    {
      "cell_type": "code",
      "source": [
        "# Convert columns to numeric, coercing errors\n",
        "for column in quick_facts.select_dtypes(include=['object']).columns:\n",
        "    quick_facts[column] = pd.to_numeric(quick_facts[column], errors='coerce')\n",
        "\n",
        "# Fill NaNs in numeric columns with the mean\n",
        "quick_facts.fillna(quick_facts.select_dtypes(include=np.number).mean(), inplace=True)\n"
      ],
      "metadata": {
        "id": "CRx8e76AX6tB"
      },
      "execution_count": 13,
      "outputs": []
    },
    {
      "cell_type": "markdown",
      "source": [
        "4. Standardize Column Names\n",
        "\n",
        "To keep naming consistent, standardize all column names by converting to lowercase and replacing spaces with underscores."
      ],
      "metadata": {
        "id": "0WDyhkLwYHAN"
      }
    },
    {
      "cell_type": "code",
      "source": [
        "# Standardize column names\n",
        "ripa_stop_result.columns = ripa_stop_result.columns.str.lower().str.replace(' ', '_')\n",
        "ripa_race.columns = ripa_race.columns.str.lower().str.replace(' ', '_')\n",
        "quick_facts.columns = quick_facts.columns.str.lower().str.replace(' ', '_')\n"
      ],
      "metadata": {
        "id": "4tNCd3FsYH_-"
      },
      "execution_count": 14,
      "outputs": []
    },
    {
      "cell_type": "markdown",
      "source": [
        "5. Convert Data Types\n",
        "\n",
        "Adjust data types as needed (e.g., convert dates and categorical data) to optimize for analysis."
      ],
      "metadata": {
        "id": "Zk-MUOhrYREs"
      }
    },
    {
      "cell_type": "code",
      "source": [
        "# Convert date columns to datetime format if any\n",
        "# Replace 'date_column' with the actual name of your date column\n",
        "# Check the actual column name in your ripa_stop_result DataFrame\n",
        "date_column_name = ripa_stop_result.columns[0]  # Assuming the date column is the first column\n",
        "# You can find the correct column name by printing ripa_stop_result.columns\n",
        "ripa_stop_result[date_column_name] = pd.to_datetime(ripa_stop_result[date_column_name], errors='coerce')\n",
        "\n",
        "# Convert specific columns to categorical data if relevant\n",
        "ripa_race['race'] = ripa_race['race'].astype('category')"
      ],
      "metadata": {
        "id": "v1FqzrKrYh4r"
      },
      "execution_count": 15,
      "outputs": []
    },
    {
      "cell_type": "markdown",
      "source": [
        "6. Remove Duplicates\n",
        "\n",
        "Remove duplicate rows if they exist."
      ],
      "metadata": {
        "id": "HbQl3drVYqBs"
      }
    },
    {
      "cell_type": "code",
      "source": [
        "# Drop duplicate rows in each dataset\n",
        "ripa_stop_result.drop_duplicates(inplace=True)\n",
        "ripa_race.drop_duplicates(inplace=True)\n",
        "quick_facts.drop_duplicates(inplace=True)\n"
      ],
      "metadata": {
        "id": "78pf2KxxYpbJ"
      },
      "execution_count": 16,
      "outputs": []
    },
    {
      "cell_type": "markdown",
      "source": [
        "7. Merge Datasets (If Applicable)\n",
        "\n",
        "Merge ripa_stop_result, ripa_race, and quick_facts if they share a common identifier."
      ],
      "metadata": {
        "id": "xVLs1WyHYw7t"
      }
    },
    {
      "cell_type": "code",
      "source": [
        "ripa_stop_result['stop_id'] = ripa_stop_result['stop_id'].astype(int)\n",
        "ripa_race['stop_id'] = ripa_race['stop_id'].astype(int)"
      ],
      "metadata": {
        "id": "SPOV2q7s-Y9g"
      },
      "execution_count": 25,
      "outputs": []
    },
    {
      "cell_type": "code",
      "source": [
        "import pandas as pd\n",
        "\n",
        "# Assuming ripa_stop_result, ripa_race, and quick_facts are already loaded\n",
        "\n",
        "# Convert date columns to datetime format if any\n",
        "# Replace 'date_column' with the actual name of your date column\n",
        "# Check the actual column name in your ripa_stop_result DataFrame\n",
        "# Assuming the date column is the first column in ripa_stop_result\n",
        "# Adjust if necessary\n",
        "date_column_name = ripa_stop_result.columns[0]\n",
        "# This gets the name of the first column - update if it's not your date column\n",
        "ripa_stop_result[date_column_name] = pd.to_datetime(ripa_stop_result[date_column_name], errors='coerce')\n",
        "\n",
        "# Convert specific columns to categorical data if relevant\n",
        "ripa_race['race'] = ripa_race['race'].astype('category')\n",
        "\n",
        "# Drop duplicate rows in each dataset\n",
        "ripa_stop_result.drop_duplicates(inplace=True)\n",
        "ripa_race.drop_duplicates"
      ],
      "metadata": {
        "colab": {
          "base_uri": "https://localhost:8080/",
          "height": 224
        },
        "id": "Y4CelT5Z-yyN",
        "outputId": "990877b9-ce2c-4e11-af47-213ef6339f5c"
      },
      "execution_count": 27,
      "outputs": [
        {
          "output_type": "execute_result",
          "data": {
            "text/plain": [
              "<bound method DataFrame.drop_duplicates of       stop_id  pid                           race\n",
              "0           1    1             Hispanic/Latino(a)\n",
              "1           2    1               Pacific Islander\n",
              "2           2    1                          White\n",
              "3           2    1         Black/African American\n",
              "4           2    1                          Asian\n",
              "...       ...  ...                            ...\n",
              "9100     8314    1             Hispanic/Latino(a)\n",
              "9101     8315    1             Hispanic/Latino(a)\n",
              "9102     8316    1                          White\n",
              "9103     8317    1                          Asian\n",
              "9104     8318    1  Middle Eastern or South Asian\n",
              "\n",
              "[9105 rows x 3 columns]>"
            ],
            "text/html": [
              "<div style=\"max-width:800px; border: 1px solid var(--colab-border-color);\"><style>\n",
              "      pre.function-repr-contents {\n",
              "        overflow-x: auto;\n",
              "        padding: 8px 12px;\n",
              "        max-height: 500px;\n",
              "      }\n",
              "\n",
              "      pre.function-repr-contents.function-repr-contents-collapsed {\n",
              "        cursor: pointer;\n",
              "        max-height: 100px;\n",
              "      }\n",
              "    </style>\n",
              "    <pre style=\"white-space: initial; background:\n",
              "         var(--colab-secondary-surface-color); padding: 8px 12px;\n",
              "         border-bottom: 1px solid var(--colab-border-color);\"><b>pandas.core.frame.DataFrame.drop_duplicates</b><br/>def drop_duplicates(subset: Hashable | Sequence[Hashable] | None=None, *, keep: DropKeep=&#x27;first&#x27;, inplace: bool=False, ignore_index: bool=False) -&gt; DataFrame | None</pre><pre class=\"function-repr-contents function-repr-contents-collapsed\" style=\"\"><a class=\"filepath\" style=\"display:none\" href=\"#\">/usr/local/lib/python3.10/dist-packages/pandas/core/frame.py</a>Return DataFrame with duplicate rows removed.\n",
              "\n",
              "Considering certain columns is optional. Indexes, including time indexes\n",
              "are ignored.\n",
              "\n",
              "Parameters\n",
              "----------\n",
              "subset : column label or sequence of labels, optional\n",
              "    Only consider certain columns for identifying duplicates, by\n",
              "    default use all of the columns.\n",
              "keep : {&#x27;first&#x27;, &#x27;last&#x27;, ``False``}, default &#x27;first&#x27;\n",
              "    Determines which duplicates (if any) to keep.\n",
              "\n",
              "    - &#x27;first&#x27; : Drop duplicates except for the first occurrence.\n",
              "    - &#x27;last&#x27; : Drop duplicates except for the last occurrence.\n",
              "    - ``False`` : Drop all duplicates.\n",
              "\n",
              "inplace : bool, default ``False``\n",
              "    Whether to modify the DataFrame rather than creating a new one.\n",
              "ignore_index : bool, default ``False``\n",
              "    If ``True``, the resulting axis will be labeled 0, 1, …, n - 1.\n",
              "\n",
              "Returns\n",
              "-------\n",
              "DataFrame or None\n",
              "    DataFrame with duplicates removed or None if ``inplace=True``.\n",
              "\n",
              "See Also\n",
              "--------\n",
              "DataFrame.value_counts: Count unique combinations of columns.\n",
              "\n",
              "Examples\n",
              "--------\n",
              "Consider dataset containing ramen rating.\n",
              "\n",
              "&gt;&gt;&gt; df = pd.DataFrame({\n",
              "...     &#x27;brand&#x27;: [&#x27;Yum Yum&#x27;, &#x27;Yum Yum&#x27;, &#x27;Indomie&#x27;, &#x27;Indomie&#x27;, &#x27;Indomie&#x27;],\n",
              "...     &#x27;style&#x27;: [&#x27;cup&#x27;, &#x27;cup&#x27;, &#x27;cup&#x27;, &#x27;pack&#x27;, &#x27;pack&#x27;],\n",
              "...     &#x27;rating&#x27;: [4, 4, 3.5, 15, 5]\n",
              "... })\n",
              "&gt;&gt;&gt; df\n",
              "    brand style  rating\n",
              "0  Yum Yum   cup     4.0\n",
              "1  Yum Yum   cup     4.0\n",
              "2  Indomie   cup     3.5\n",
              "3  Indomie  pack    15.0\n",
              "4  Indomie  pack     5.0\n",
              "\n",
              "By default, it removes duplicate rows based on all columns.\n",
              "\n",
              "&gt;&gt;&gt; df.drop_duplicates()\n",
              "    brand style  rating\n",
              "0  Yum Yum   cup     4.0\n",
              "2  Indomie   cup     3.5\n",
              "3  Indomie  pack    15.0\n",
              "4  Indomie  pack     5.0\n",
              "\n",
              "To remove duplicates on specific column(s), use ``subset``.\n",
              "\n",
              "&gt;&gt;&gt; df.drop_duplicates(subset=[&#x27;brand&#x27;])\n",
              "    brand style  rating\n",
              "0  Yum Yum   cup     4.0\n",
              "2  Indomie   cup     3.5\n",
              "\n",
              "To remove duplicates and keep last occurrences, use ``keep``.\n",
              "\n",
              "&gt;&gt;&gt; df.drop_duplicates(subset=[&#x27;brand&#x27;, &#x27;style&#x27;], keep=&#x27;last&#x27;)\n",
              "    brand style  rating\n",
              "1  Yum Yum   cup     4.0\n",
              "2  Indomie   cup     3.5\n",
              "4  Indomie  pack     5.0</pre>\n",
              "      <script>\n",
              "      if (google.colab.kernel.accessAllowed && google.colab.files && google.colab.files.view) {\n",
              "        for (const element of document.querySelectorAll('.filepath')) {\n",
              "          element.style.display = 'block'\n",
              "          element.onclick = (event) => {\n",
              "            event.preventDefault();\n",
              "            event.stopPropagation();\n",
              "            google.colab.files.view(element.textContent, 6731);\n",
              "          };\n",
              "        }\n",
              "      }\n",
              "      for (const element of document.querySelectorAll('.function-repr-contents')) {\n",
              "        element.onclick = (event) => {\n",
              "          event.preventDefault();\n",
              "          event.stopPropagation();\n",
              "          element.classList.toggle('function-repr-contents-collapsed');\n",
              "        };\n",
              "      }\n",
              "      </script>\n",
              "      </div>"
            ]
          },
          "metadata": {},
          "execution_count": 27
        }
      ]
    },
    {
      "cell_type": "markdown",
      "source": [
        "8. Feature Engineering (If Necessary)\n",
        "\n",
        "Add any derived columns that may assist in the analysis."
      ],
      "metadata": {
        "id": "bD6o5AbD_Q4B"
      }
    },
    {
      "cell_type": "code",
      "source": [
        "# Convert 'stop_id' to a consistent data type (int) in both DataFrames:\n",
        "ripa_stop_result['stop_id'] = ripa_stop_result['stop_id'].astype(int)\n",
        "ripa_race['stop_id'] = ripa_race['stop_id'].astype(int)\n",
        "\n",
        "# Now you can merge the DataFrames\n",
        "final_data = pd.merge(ripa_stop_result, ripa_race, on='stop_id', how='inner')"
      ],
      "metadata": {
        "id": "LlabWaPv_jod"
      },
      "execution_count": 30,
      "outputs": []
    },
    {
      "cell_type": "markdown",
      "source": [
        "9. Final Data Review\n",
        "\n",
        "Ensure all columns are clean, standardized, and ready for analysis."
      ],
      "metadata": {
        "id": "IW-MqjlN_vmI"
      }
    },
    {
      "cell_type": "code",
      "source": [
        "# Final check\n",
        "print(final_data.info())\n",
        "print(final_data.isnull().sum())\n"
      ],
      "metadata": {
        "colab": {
          "base_uri": "https://localhost:8080/"
        },
        "id": "Ybbf3q0i_wtV",
        "outputId": "5319572f-1435-4826-d1c7-54c51492538f"
      },
      "execution_count": 31,
      "outputs": [
        {
          "output_type": "stream",
          "name": "stdout",
          "text": [
            "<class 'pandas.core.frame.DataFrame'>\n",
            "RangeIndex: 13075 entries, 0 to 13074\n",
            "Data columns (total 8 columns):\n",
            " #   Column      Non-Null Count  Dtype   \n",
            "---  ------      --------------  -----   \n",
            " 0   stop_id     13075 non-null  int64   \n",
            " 1   pid_x       13075 non-null  int64   \n",
            " 2   resultkey   13075 non-null  int64   \n",
            " 3   result      12549 non-null  object  \n",
            " 4   code        9358 non-null   float64 \n",
            " 5   resulttext  9358 non-null   object  \n",
            " 6   pid_y       13075 non-null  int64   \n",
            " 7   race        13075 non-null  category\n",
            "dtypes: category(1), float64(1), int64(4), object(2)\n",
            "memory usage: 728.3+ KB\n",
            "None\n",
            "stop_id          0\n",
            "pid_x            0\n",
            "resultkey        0\n",
            "result         526\n",
            "code          3717\n",
            "resulttext    3717\n",
            "pid_y            0\n",
            "race             0\n",
            "dtype: int64\n"
          ]
        }
      ]
    }
  ]
}