{
  "nbformat": 4,
  "nbformat_minor": 0,
  "metadata": {
    "colab": {
      "provenance": [],
      "include_colab_link": true
    },
    "kernelspec": {
      "name": "python3",
      "display_name": "Python 3"
    },
    "language_info": {
      "name": "python"
    }
  },
  "cells": [
    {
      "cell_type": "markdown",
      "metadata": {
        "id": "view-in-github",
        "colab_type": "text"
      },
      "source": [
        "<a href=\"https://colab.research.google.com/github/logicpro09/group5/blob/main/Final_Project_Report_Team_Number5_draft.ipynb\" target=\"_parent\"><img src=\"https://colab.research.google.com/assets/colab-badge.svg\" alt=\"Open In Colab\"/></a>"
      ]
    },
    {
      "cell_type": "markdown",
      "source": [
        "Introduction\n",
        "Background on the Dataset\n",
        "\n",
        "    Dataset Source:\n",
        "    \"This data comes straight from the San Diego Police Department's RIPA (Racial and Identity Profiling Act) records. Collected by law enforcement itself, this dataset is an unfiltered look into the reality of policing practices. It’s designed to put transparency and accountability at the forefront, revealing how stops are conducted across California.\"\n",
        "\n",
        "    Description of the Dataset:\n",
        "    \"This isn’t just a spreadsheet; it’s over [number] records detailing the who, what, and why of police stops. We’re talking demographics, reasons for stops, actions taken, and more. With key data points like race, ethnicity, violation type, and officer decisions, this dataset offers a hard look at how policies and practices might favor or disadvantage specific groups.\"\n",
        "\n",
        "    Purpose of Analysis:\n",
        "    \"Our goal? To expose any patterns and disparities in police stops—raw data, real insights. We’re investigating if some groups face different outcomes based on race or other factors. This analysis will arm decision-makers with facts to address biases and raise the bar for accountability in law enforcement.\"\n",
        "\n",
        "Significance of the Problem\n",
        "\n",
        "    Contextual Importance:\n",
        "    \"Racial disparity in police stops isn’t just a statistic—it’s a critical social issue that demands attention. Fair treatment under the law isn’t optional; it’s essential. Exposing these disparities can push for real change, ensuring that law enforcement practices meet the standard that every citizen deserves.\"\n",
        "\n",
        "    Value of Insights:\n",
        "    \"By getting to the bottom of this data, we’re offering something more than just numbers. Law enforcement, policymakers, and community leaders can use these insights to take real, actionable steps. It’s about more than addressing bias—it’s about strengthening community trust and implementing policy that actually works for everyone.\"\n",
        "\n",
        "    Research Gap:\n",
        "    \"Racial profiling has been studied in a lot of places, but San Diego? Not enough. This analysis doesn’t just fill that gap; it’s a statement. It provides hard-hitting data on San Diego’s practices, something local officials and citizens can actually work with.\""
      ],
      "metadata": {
        "id": "3flfNrF9PkET"
      }
    },
    {
      "cell_type": "code",
      "source": [
        "from google.colab import drive\n",
        "drive.mount('/content/drive')"
      ],
      "metadata": {
        "colab": {
          "base_uri": "https://localhost:8080/"
        },
        "id": "93FXFZJZu-Nz",
        "outputId": "bcb72fed-ba2c-4c79-f597-6ae215b6bee4"
      },
      "execution_count": 353,
      "outputs": [
        {
          "output_type": "stream",
          "name": "stdout",
          "text": [
            "Drive already mounted at /content/drive; to attempt to forcibly remount, call drive.mount(\"/content/drive\", force_remount=True).\n"
          ]
        }
      ]
    },
    {
      "cell_type": "markdown",
      "source": [
        "1. Import Libraries and Load Data\n",
        "\n",
        "First, load the datasets into Google Colab or your Python environment. We’ll use pandas for data handling and basic analysis."
      ],
      "metadata": {
        "id": "PWOXNnUEQnNz"
      }
    },
    {
      "cell_type": "code",
      "execution_count": 354,
      "metadata": {
        "colab": {
          "base_uri": "https://localhost:8080/"
        },
        "id": "ImxIV02-OUAT",
        "outputId": "dda8c16f-4b16-452f-f2ad-4f0f0379bb7d"
      },
      "outputs": [
        {
          "output_type": "stream",
          "name": "stdout",
          "text": [
            "   stop_id  pid  resultkey                            result     code  \\\n",
            "0        1    1          3           Citation for infraction  42127.0   \n",
            "1        2    1          3           Citation for infraction  54303.0   \n",
            "2        3    1          2       Warning (verbal or written)  54098.0   \n",
            "3        4    1          6  Custodial Arrest without warrant  13174.0   \n",
            "4        5    1          2       Warning (verbal or written)  54306.0   \n",
            "\n",
            "                                          resulttext  \n",
            "0          12500(A) VC - DRIVE W/O LICENSE (I) 42127  \n",
            "1    22349(A) VC - EXCEED SPEED ON HIGHWAY (I) 54303  \n",
            "2  21453(A) VC - FAIL STOP LINE/ETC AT RED (I) 54098  \n",
            "3  243(E)(1) PC - BAT:SPOUSE/EX SP/DATE/ETC (M) 1...  \n",
            "4       22400(A) VC - DRIVE TOO SLOWLY/ETC (I) 54306  \n",
            "   stop_id  pid                    race\n",
            "0        1    1      Hispanic/Latino(a)\n",
            "1        2    1        Pacific Islander\n",
            "2        2    1                   White\n",
            "3        2    1  Black/African American\n",
            "4        2    1                   Asian\n",
            "       Race  Percentage  Population\n",
            "0     White        46.8      649733\n",
            "1  Hispanic        33.4      463698\n",
            "2     Black         4.5       62474\n",
            "3     Asian         9.9      137443\n",
            "4     Other         5.4       74969\n"
          ]
        }
      ],
      "source": [
        "import pandas as pd\n",
        "\n",
        "# Load datasets\n",
        "ripa_stop_result = pd.read_csv('/content/drive/MyDrive/ripa_stop_result_datasd.csv')\n",
        "ripa_race = pd.read_csv('/content/drive/MyDrive/ripa_race_datasd.csv')\n",
        "quick_facts = pd.read_csv('/content/drive/MyDrive/QuickFacts Oct-09-2024.csv')\n",
        "sd_pop = pd.read_csv('/content/drive/MyDrive/san_diego_population_by_race.csv')\n",
        "\n",
        "# Preview the first few rows of each dataset\n",
        "print(ripa_stop_result.head())\n",
        "print(ripa_race.head())\n",
        "print(sd_pop.head())\n"
      ]
    },
    {
      "cell_type": "markdown",
      "source": [
        "2. Initial Data Assessment\n",
        "\n",
        "Use .info() and .describe() to identify data types, check for missing values, and see general statistics."
      ],
      "metadata": {
        "id": "Iu4bE8XOSfdI"
      }
    },
    {
      "cell_type": "code",
      "source": [
        "# Check data types and missing values for each dataset\n",
        "print(ripa_stop_result.info())\n",
        "print(ripa_race.info())\n",
        "print(sd_pop.info())\n",
        "\n",
        "# Get summary statistics for each dataset\n",
        "print(ripa_stop_result.describe())\n",
        "print(ripa_race.describe())\n",
        "print(sd_pop.describe())\n"
      ],
      "metadata": {
        "colab": {
          "base_uri": "https://localhost:8080/"
        },
        "id": "wPyD38h0SjEc",
        "outputId": "ca3e5e12-84c9-4a3c-a9fa-433f7413001c"
      },
      "execution_count": 355,
      "outputs": [
        {
          "output_type": "stream",
          "name": "stdout",
          "text": [
            "<class 'pandas.core.frame.DataFrame'>\n",
            "RangeIndex: 9471 entries, 0 to 9470\n",
            "Data columns (total 6 columns):\n",
            " #   Column      Non-Null Count  Dtype  \n",
            "---  ------      --------------  -----  \n",
            " 0   stop_id     9471 non-null   int64  \n",
            " 1   pid         9471 non-null   int64  \n",
            " 2   resultkey   9471 non-null   int64  \n",
            " 3   result      9094 non-null   object \n",
            " 4   code        7087 non-null   float64\n",
            " 5   resulttext  7087 non-null   object \n",
            "dtypes: float64(1), int64(3), object(2)\n",
            "memory usage: 444.1+ KB\n",
            "None\n",
            "<class 'pandas.core.frame.DataFrame'>\n",
            "RangeIndex: 9105 entries, 0 to 9104\n",
            "Data columns (total 3 columns):\n",
            " #   Column   Non-Null Count  Dtype \n",
            "---  ------   --------------  ----- \n",
            " 0   stop_id  9105 non-null   int64 \n",
            " 1   pid      9105 non-null   int64 \n",
            " 2   race     9105 non-null   object\n",
            "dtypes: int64(2), object(1)\n",
            "memory usage: 213.5+ KB\n",
            "None\n",
            "<class 'pandas.core.frame.DataFrame'>\n",
            "RangeIndex: 5 entries, 0 to 4\n",
            "Data columns (total 3 columns):\n",
            " #   Column      Non-Null Count  Dtype  \n",
            "---  ------      --------------  -----  \n",
            " 0   Race        5 non-null      object \n",
            " 1   Percentage  5 non-null      float64\n",
            " 2   Population  5 non-null      int64  \n",
            "dtypes: float64(1), int64(1), object(1)\n",
            "memory usage: 248.0+ bytes\n",
            "None\n",
            "           stop_id          pid    resultkey          code\n",
            "count  9471.000000  9471.000000  9471.000000   7087.000000\n",
            "mean   4276.282547     1.151937     3.894731  50638.000141\n",
            "std    2451.522568     0.644558     2.289641  12844.585918\n",
            "min       1.000000     1.000000     1.000000      3.000000\n",
            "25%    1972.500000     1.000000     2.000000  53130.000000\n",
            "50%    4462.000000     1.000000     3.000000  54167.000000\n",
            "75%    6397.000000     1.000000     6.000000  54655.000000\n",
            "max    8318.000000    13.000000    14.000000  99999.000000\n",
            "           stop_id          pid\n",
            "count  9105.000000  9105.000000\n",
            "mean   4235.836354     1.146623\n",
            "std    2461.834018     0.638992\n",
            "min       1.000000     1.000000\n",
            "25%    1927.000000     1.000000\n",
            "50%    4411.000000     1.000000\n",
            "75%    6356.000000     1.000000\n",
            "max    8318.000000    13.000000\n",
            "       Percentage     Population\n",
            "count    5.000000       5.000000\n",
            "mean    20.000000  277663.400000\n",
            "std     19.060561  264621.388913\n",
            "min      4.500000   62474.000000\n",
            "25%      5.400000   74969.000000\n",
            "50%      9.900000  137443.000000\n",
            "75%     33.400000  463698.000000\n",
            "max     46.800000  649733.000000\n"
          ]
        }
      ]
    },
    {
      "cell_type": "markdown",
      "source": [],
      "metadata": {
        "id": "wDIbAW7_Pih-"
      }
    },
    {
      "cell_type": "markdown",
      "source": [
        "3. Data Cleaning and Preparation\n",
        "Step 3.1: Handle Missing Values\n",
        "\n",
        "Identify columns with missing values and decide on a strategy (e.g., drop or fill)."
      ],
      "metadata": {
        "id": "DbGa10I4VgQD"
      }
    },
    {
      "cell_type": "code",
      "source": [
        "import pandas as pd\n",
        "import numpy as np  # Import NumPy and assign it the alias 'np'\n",
        "\n",
        "# Check data types and missing values for each dataset\n",
        "print(ripa_stop_result.info())\n",
        "print(ripa_race.info())\n",
        "print(sd_pop.info())\n",
        "\n",
        "# Get summary statistics for each dataset\n",
        "print(ripa_stop_result.describe())\n",
        "print(ripa_race.describe())\n",
        "print(sd_pop.describe())\n",
        "\n",
        "# Check missing values\n",
        "print(ripa_stop_result.isnull().sum())\n",
        "print(ripa_race.isnull().sum())\n",
        "print(sd_pop.isnull().sum())\n",
        "\n",
        "# Get the actual column names from the DataFrame\n",
        "ripa_stop_result_columns = ripa_stop_result.columns.tolist()\n",
        "\n",
        "# Print the column names to verify (optional but helpful for debugging)\n",
        "print(\"Columns in ripa_stop_result:\", ripa_stop_result_columns)\n",
        "\n",
        "# Replace 'column1', 'column2' with actual column names from ripa_stop_result_columns\n",
        "# Example:\n",
        "# ripa_stop_result.dropna(subset=['actual_column_name1', 'actual_column_name2'], inplace=True)\n",
        "# Choose the appropriate column names based on the output of ripa_stop_result_columns\n",
        "# Make sure the selected columns are the ones where you want to drop rows with missing values.\n",
        "ripa_stop_result.dropna(subset=[ripa_stop_result_columns[0], ripa_stop_result_columns[1]], inplace=True)  # Drop only critical columns\n",
        "\n",
        "ripa_race.fillna({'column_name': 'Unknown'}, inplace=True)  # Example fill for categorical data\n",
        "\n",
        "# Convert problematic columns in quick_facts to numeric, coerce errors to NaN\n",
        "for column in quick_facts.select_dtypes(include=['object']).columns:  # Select object type columns\n",
        "    try:\n",
        "        quick_facts[column] = pd.to_numeric(quick_facts[column], errors='coerce')  # Coerce errors to NaN\n",
        "    except ValueError:\n",
        "        print(f\"Could not convert column '{column}' to numeric.\")\n",
        "\n",
        "# Now fill NaN values with the mean for numeric columns only\n",
        "quick_facts.fillna(quick_facts.select_dtypes(include=np.number).mean(), inplace=True)  # Example fill for numerical data, select numeric columns only"
      ],
      "metadata": {
        "colab": {
          "base_uri": "https://localhost:8080/"
        },
        "id": "RkvLjCXkWehf",
        "outputId": "2a6d4b17-c9d8-421c-85e7-c0a89ef3ea3f"
      },
      "execution_count": 356,
      "outputs": [
        {
          "output_type": "stream",
          "name": "stdout",
          "text": [
            "<class 'pandas.core.frame.DataFrame'>\n",
            "RangeIndex: 9471 entries, 0 to 9470\n",
            "Data columns (total 6 columns):\n",
            " #   Column      Non-Null Count  Dtype  \n",
            "---  ------      --------------  -----  \n",
            " 0   stop_id     9471 non-null   int64  \n",
            " 1   pid         9471 non-null   int64  \n",
            " 2   resultkey   9471 non-null   int64  \n",
            " 3   result      9094 non-null   object \n",
            " 4   code        7087 non-null   float64\n",
            " 5   resulttext  7087 non-null   object \n",
            "dtypes: float64(1), int64(3), object(2)\n",
            "memory usage: 444.1+ KB\n",
            "None\n",
            "<class 'pandas.core.frame.DataFrame'>\n",
            "RangeIndex: 9105 entries, 0 to 9104\n",
            "Data columns (total 3 columns):\n",
            " #   Column   Non-Null Count  Dtype \n",
            "---  ------   --------------  ----- \n",
            " 0   stop_id  9105 non-null   int64 \n",
            " 1   pid      9105 non-null   int64 \n",
            " 2   race     9105 non-null   object\n",
            "dtypes: int64(2), object(1)\n",
            "memory usage: 213.5+ KB\n",
            "None\n",
            "<class 'pandas.core.frame.DataFrame'>\n",
            "RangeIndex: 5 entries, 0 to 4\n",
            "Data columns (total 3 columns):\n",
            " #   Column      Non-Null Count  Dtype  \n",
            "---  ------      --------------  -----  \n",
            " 0   Race        5 non-null      object \n",
            " 1   Percentage  5 non-null      float64\n",
            " 2   Population  5 non-null      int64  \n",
            "dtypes: float64(1), int64(1), object(1)\n",
            "memory usage: 248.0+ bytes\n",
            "None\n",
            "           stop_id          pid    resultkey          code\n",
            "count  9471.000000  9471.000000  9471.000000   7087.000000\n",
            "mean   4276.282547     1.151937     3.894731  50638.000141\n",
            "std    2451.522568     0.644558     2.289641  12844.585918\n",
            "min       1.000000     1.000000     1.000000      3.000000\n",
            "25%    1972.500000     1.000000     2.000000  53130.000000\n",
            "50%    4462.000000     1.000000     3.000000  54167.000000\n",
            "75%    6397.000000     1.000000     6.000000  54655.000000\n",
            "max    8318.000000    13.000000    14.000000  99999.000000\n",
            "           stop_id          pid\n",
            "count  9105.000000  9105.000000\n",
            "mean   4235.836354     1.146623\n",
            "std    2461.834018     0.638992\n",
            "min       1.000000     1.000000\n",
            "25%    1927.000000     1.000000\n",
            "50%    4411.000000     1.000000\n",
            "75%    6356.000000     1.000000\n",
            "max    8318.000000    13.000000\n",
            "       Percentage     Population\n",
            "count    5.000000       5.000000\n",
            "mean    20.000000  277663.400000\n",
            "std     19.060561  264621.388913\n",
            "min      4.500000   62474.000000\n",
            "25%      5.400000   74969.000000\n",
            "50%      9.900000  137443.000000\n",
            "75%     33.400000  463698.000000\n",
            "max     46.800000  649733.000000\n",
            "stop_id          0\n",
            "pid              0\n",
            "resultkey        0\n",
            "result         377\n",
            "code          2384\n",
            "resulttext    2384\n",
            "dtype: int64\n",
            "stop_id    0\n",
            "pid        0\n",
            "race       0\n",
            "dtype: int64\n",
            "Race          0\n",
            "Percentage    0\n",
            "Population    0\n",
            "dtype: int64\n",
            "Columns in ripa_stop_result: ['stop_id', 'pid', 'resultkey', 'result', 'code', 'resulttext']\n"
          ]
        }
      ]
    },
    {
      "cell_type": "markdown",
      "source": [
        "Step 3.1: Identify and Drop Rows with Missing Values (Critical Columns)\n",
        "\n",
        "First, print out the column names in ripa_stop_result to identify which columns contain missing values and decide on which columns are critical to your analysis."
      ],
      "metadata": {
        "id": "Njf7Q9QbXi0B"
      }
    },
    {
      "cell_type": "code",
      "source": [
        "# Print column names to identify relevant ones\n",
        "ripa_stop_result_columns = ripa_stop_result.columns.tolist()\n",
        "print(\"Columns in ripa_stop_result:\", ripa_stop_result_columns)\n",
        "\n",
        "# Drop rows with missing values in critical columns (update with actual column names)\n",
        "ripa_stop_result.dropna(subset=[ripa_stop_result_columns[0], ripa_stop_result_columns[1]], inplace=True)\n"
      ],
      "metadata": {
        "colab": {
          "base_uri": "https://localhost:8080/"
        },
        "id": "t4efOo0rXc6r",
        "outputId": "dc007c3c-641b-4031-cea8-c61865410cdc"
      },
      "execution_count": 357,
      "outputs": [
        {
          "output_type": "stream",
          "name": "stdout",
          "text": [
            "Columns in ripa_stop_result: ['stop_id', 'pid', 'resultkey', 'result', 'code', 'resulttext']\n"
          ]
        }
      ]
    },
    {
      "cell_type": "markdown",
      "source": [
        "Step 3.2: Fill Missing Categorical Data in ripa_race\n",
        "\n",
        "Fill missing values in ripa_race with placeholder values where needed (replace 'column_name' with actual column names)."
      ],
      "metadata": {
        "id": "bYlL4P83XmzU"
      }
    },
    {
      "cell_type": "code",
      "source": [
        "ripa_race.fillna({'column_name': 'Unknown'}, inplace=True)  # Replace 'column_name' as appropriate\n"
      ],
      "metadata": {
        "id": "jZPOlxH1Xq3G"
      },
      "execution_count": 358,
      "outputs": []
    },
    {
      "cell_type": "markdown",
      "source": [
        "Step 3.3: Convert Object Columns to Numeric in quick_facts and Fill NaNs\n",
        "\n",
        "    Convert object columns to numeric where possible, coercing errors to NaN.\n",
        "    Fill NaN values in numeric columns with the mean.\n",
        "\n",
        "python"
      ],
      "metadata": {
        "id": "GN7RoT4pX5gR"
      }
    },
    {
      "cell_type": "code",
      "source": [
        "# Convert columns to numeric, coercing errors\n",
        "#for column in sd_pop.select_dtypes(include=['object']).columns:\n",
        "    #sd_pop[column] = pd.to_numeric(sd_pop[column], errors='coerce')\n",
        "\n",
        "# Fill NaNs in numeric columns with the mean\n",
        "#sd_pop.fillna(quick_facts.select_dtypes(include=np.number).mean(), inplace=True)\n"
      ],
      "metadata": {
        "id": "CRx8e76AX6tB"
      },
      "execution_count": 359,
      "outputs": []
    },
    {
      "cell_type": "markdown",
      "source": [
        "4. Standardize Column Names\n",
        "\n",
        "To keep naming consistent, standardize all column names by converting to lowercase and replacing spaces with underscores."
      ],
      "metadata": {
        "id": "0WDyhkLwYHAN"
      }
    },
    {
      "cell_type": "code",
      "source": [
        "# Standardize column names\n",
        "ripa_stop_result.columns = ripa_stop_result.columns.str.lower().str.replace(' ', '_')\n",
        "ripa_race.columns = ripa_race.columns.str.lower().str.replace(' ', '_')\n",
        "sd_pop.columns = sd_pop.columns.str.lower().str.replace(' ', '_')\n"
      ],
      "metadata": {
        "id": "4tNCd3FsYH_-"
      },
      "execution_count": 360,
      "outputs": []
    },
    {
      "cell_type": "markdown",
      "source": [
        "5. Convert Data Types\n",
        "\n",
        "Adjust data types as needed (e.g., convert dates and categorical data) to optimize for analysis."
      ],
      "metadata": {
        "id": "Zk-MUOhrYREs"
      }
    },
    {
      "cell_type": "code",
      "source": [
        "# Convert date columns to datetime format if any\n",
        "# Replace 'date_column' with the actual name of your date column\n",
        "# Check the actual column name in your ripa_stop_result DataFrame\n",
        "date_column_name = ripa_stop_result.columns[0]  # Assuming the date column is the first column\n",
        "# You can find the correct column name by printing ripa_stop_result.columns\n",
        "ripa_stop_result[date_column_name] = pd.to_datetime(ripa_stop_result[date_column_name], errors='coerce')\n",
        "\n",
        "# Convert specific columns to categorical data if relevant\n",
        "ripa_race['race'] = ripa_race['race'].astype('category')"
      ],
      "metadata": {
        "id": "v1FqzrKrYh4r"
      },
      "execution_count": 361,
      "outputs": []
    },
    {
      "cell_type": "markdown",
      "source": [
        "6. Remove Duplicates\n",
        "\n",
        "Remove duplicate rows if they exist."
      ],
      "metadata": {
        "id": "HbQl3drVYqBs"
      }
    },
    {
      "cell_type": "code",
      "source": [
        "# Drop duplicate rows in each dataset\n",
        "ripa_stop_result.drop_duplicates(inplace=True)\n",
        "ripa_race.drop_duplicates(inplace=True)\n",
        "sd_pop.drop_duplicates(inplace=True)\n"
      ],
      "metadata": {
        "id": "78pf2KxxYpbJ"
      },
      "execution_count": 362,
      "outputs": []
    },
    {
      "cell_type": "markdown",
      "source": [
        "7. Merge Datasets (If Applicable)\n",
        "\n",
        "Merge ripa_stop_result, ripa_race, and quick_facts if they share a common identifier."
      ],
      "metadata": {
        "id": "xVLs1WyHYw7t"
      }
    },
    {
      "cell_type": "code",
      "source": [
        "ripa_stop_result['stop_id'] = ripa_stop_result['stop_id'].astype(int)\n",
        "ripa_race['stop_id'] = ripa_race['stop_id'].astype(int)"
      ],
      "metadata": {
        "id": "SPOV2q7s-Y9g"
      },
      "execution_count": 363,
      "outputs": []
    },
    {
      "cell_type": "code",
      "source": [
        "import pandas as pd\n",
        "\n",
        "# Assuming ripa_stop_result, ripa_race, and quick_facts are already loaded\n",
        "\n",
        "# Convert date columns to datetime format if any\n",
        "# Replace 'date_column' with the actual name of your date column\n",
        "# Check the actual column name in your ripa_stop_result DataFrame\n",
        "# Assuming the date column is the first column in ripa_stop_result\n",
        "# Adjust if necessary\n",
        "date_column_name = ripa_stop_result.columns[0]\n",
        "# This gets the name of the first column - update if it's not your date column\n",
        "ripa_stop_result[date_column_name] = pd.to_datetime(ripa_stop_result[date_column_name], errors='coerce')\n",
        "\n",
        "# Convert specific columns to categorical data if relevant\n",
        "ripa_race['race'] = ripa_race['race'].astype('category')\n",
        "\n",
        "# Drop duplicate rows in each dataset\n",
        "ripa_stop_result.drop_duplicates(inplace=True)\n",
        "ripa_race.drop_duplicates"
      ],
      "metadata": {
        "colab": {
          "base_uri": "https://localhost:8080/",
          "height": 233
        },
        "id": "Y4CelT5Z-yyN",
        "outputId": "bad4fe89-5f4d-4d5e-f35b-3d4110440ae6"
      },
      "execution_count": 364,
      "outputs": [
        {
          "output_type": "execute_result",
          "data": {
            "text/plain": [
              "<bound method DataFrame.drop_duplicates of       stop_id  pid                           race\n",
              "0           1    1             Hispanic/Latino(a)\n",
              "1           2    1               Pacific Islander\n",
              "2           2    1                          White\n",
              "3           2    1         Black/African American\n",
              "4           2    1                          Asian\n",
              "...       ...  ...                            ...\n",
              "9100     8314    1             Hispanic/Latino(a)\n",
              "9101     8315    1             Hispanic/Latino(a)\n",
              "9102     8316    1                          White\n",
              "9103     8317    1                          Asian\n",
              "9104     8318    1  Middle Eastern or South Asian\n",
              "\n",
              "[9105 rows x 3 columns]>"
            ],
            "text/html": [
              "<div style=\"max-width:800px; border: 1px solid var(--colab-border-color);\"><style>\n",
              "      pre.function-repr-contents {\n",
              "        overflow-x: auto;\n",
              "        padding: 8px 12px;\n",
              "        max-height: 500px;\n",
              "      }\n",
              "\n",
              "      pre.function-repr-contents.function-repr-contents-collapsed {\n",
              "        cursor: pointer;\n",
              "        max-height: 100px;\n",
              "      }\n",
              "    </style>\n",
              "    <pre style=\"white-space: initial; background:\n",
              "         var(--colab-secondary-surface-color); padding: 8px 12px;\n",
              "         border-bottom: 1px solid var(--colab-border-color);\"><b>pandas.core.frame.DataFrame.drop_duplicates</b><br/>def drop_duplicates(subset: Hashable | Sequence[Hashable] | None=None, *, keep: DropKeep=&#x27;first&#x27;, inplace: bool=False, ignore_index: bool=False) -&gt; DataFrame | None</pre><pre class=\"function-repr-contents function-repr-contents-collapsed\" style=\"\"><a class=\"filepath\" style=\"display:none\" href=\"#\">/usr/local/lib/python3.10/dist-packages/pandas/core/frame.py</a>Return DataFrame with duplicate rows removed.\n",
              "\n",
              "Considering certain columns is optional. Indexes, including time indexes\n",
              "are ignored.\n",
              "\n",
              "Parameters\n",
              "----------\n",
              "subset : column label or sequence of labels, optional\n",
              "    Only consider certain columns for identifying duplicates, by\n",
              "    default use all of the columns.\n",
              "keep : {&#x27;first&#x27;, &#x27;last&#x27;, ``False``}, default &#x27;first&#x27;\n",
              "    Determines which duplicates (if any) to keep.\n",
              "\n",
              "    - &#x27;first&#x27; : Drop duplicates except for the first occurrence.\n",
              "    - &#x27;last&#x27; : Drop duplicates except for the last occurrence.\n",
              "    - ``False`` : Drop all duplicates.\n",
              "\n",
              "inplace : bool, default ``False``\n",
              "    Whether to modify the DataFrame rather than creating a new one.\n",
              "ignore_index : bool, default ``False``\n",
              "    If ``True``, the resulting axis will be labeled 0, 1, …, n - 1.\n",
              "\n",
              "Returns\n",
              "-------\n",
              "DataFrame or None\n",
              "    DataFrame with duplicates removed or None if ``inplace=True``.\n",
              "\n",
              "See Also\n",
              "--------\n",
              "DataFrame.value_counts: Count unique combinations of columns.\n",
              "\n",
              "Examples\n",
              "--------\n",
              "Consider dataset containing ramen rating.\n",
              "\n",
              "&gt;&gt;&gt; df = pd.DataFrame({\n",
              "...     &#x27;brand&#x27;: [&#x27;Yum Yum&#x27;, &#x27;Yum Yum&#x27;, &#x27;Indomie&#x27;, &#x27;Indomie&#x27;, &#x27;Indomie&#x27;],\n",
              "...     &#x27;style&#x27;: [&#x27;cup&#x27;, &#x27;cup&#x27;, &#x27;cup&#x27;, &#x27;pack&#x27;, &#x27;pack&#x27;],\n",
              "...     &#x27;rating&#x27;: [4, 4, 3.5, 15, 5]\n",
              "... })\n",
              "&gt;&gt;&gt; df\n",
              "    brand style  rating\n",
              "0  Yum Yum   cup     4.0\n",
              "1  Yum Yum   cup     4.0\n",
              "2  Indomie   cup     3.5\n",
              "3  Indomie  pack    15.0\n",
              "4  Indomie  pack     5.0\n",
              "\n",
              "By default, it removes duplicate rows based on all columns.\n",
              "\n",
              "&gt;&gt;&gt; df.drop_duplicates()\n",
              "    brand style  rating\n",
              "0  Yum Yum   cup     4.0\n",
              "2  Indomie   cup     3.5\n",
              "3  Indomie  pack    15.0\n",
              "4  Indomie  pack     5.0\n",
              "\n",
              "To remove duplicates on specific column(s), use ``subset``.\n",
              "\n",
              "&gt;&gt;&gt; df.drop_duplicates(subset=[&#x27;brand&#x27;])\n",
              "    brand style  rating\n",
              "0  Yum Yum   cup     4.0\n",
              "2  Indomie   cup     3.5\n",
              "\n",
              "To remove duplicates and keep last occurrences, use ``keep``.\n",
              "\n",
              "&gt;&gt;&gt; df.drop_duplicates(subset=[&#x27;brand&#x27;, &#x27;style&#x27;], keep=&#x27;last&#x27;)\n",
              "    brand style  rating\n",
              "1  Yum Yum   cup     4.0\n",
              "2  Indomie   cup     3.5\n",
              "4  Indomie  pack     5.0</pre>\n",
              "      <script>\n",
              "      if (google.colab.kernel.accessAllowed && google.colab.files && google.colab.files.view) {\n",
              "        for (const element of document.querySelectorAll('.filepath')) {\n",
              "          element.style.display = 'block'\n",
              "          element.onclick = (event) => {\n",
              "            event.preventDefault();\n",
              "            event.stopPropagation();\n",
              "            google.colab.files.view(element.textContent, 6731);\n",
              "          };\n",
              "        }\n",
              "      }\n",
              "      for (const element of document.querySelectorAll('.function-repr-contents')) {\n",
              "        element.onclick = (event) => {\n",
              "          event.preventDefault();\n",
              "          event.stopPropagation();\n",
              "          element.classList.toggle('function-repr-contents-collapsed');\n",
              "        };\n",
              "      }\n",
              "      </script>\n",
              "      </div>"
            ]
          },
          "metadata": {},
          "execution_count": 364
        }
      ]
    },
    {
      "cell_type": "markdown",
      "source": [
        "8. Feature Engineering (If Necessary)\n",
        "\n",
        "Add any derived columns that may assist in the analysis."
      ],
      "metadata": {
        "id": "bD6o5AbD_Q4B"
      }
    },
    {
      "cell_type": "code",
      "source": [
        "# Convert 'stop_id' to a consistent data type (int) in both DataFrames:\n",
        "ripa_stop_result['stop_id'] = ripa_stop_result['stop_id'].astype(int)\n",
        "ripa_race['stop_id'] = ripa_race['stop_id'].astype(int)\n",
        "\n",
        "# Now you can merge the DataFrames\n",
        "final_data = pd.merge(ripa_stop_result, ripa_race, on='stop_id', how='inner')"
      ],
      "metadata": {
        "id": "LlabWaPv_jod"
      },
      "execution_count": 365,
      "outputs": []
    },
    {
      "cell_type": "markdown",
      "source": [
        "9. Final Data Review\n",
        "\n",
        "Ensure all columns are clean, standardized, and ready for analysis."
      ],
      "metadata": {
        "id": "IW-MqjlN_vmI"
      }
    },
    {
      "cell_type": "code",
      "source": [
        "# Final check\n",
        "print(final_data.info())\n",
        "print(final_data.isnull().sum())\n"
      ],
      "metadata": {
        "colab": {
          "base_uri": "https://localhost:8080/"
        },
        "id": "Ybbf3q0i_wtV",
        "outputId": "94fe5f19-a958-49a0-8c47-3d0ed58db055"
      },
      "execution_count": 366,
      "outputs": [
        {
          "output_type": "stream",
          "name": "stdout",
          "text": [
            "<class 'pandas.core.frame.DataFrame'>\n",
            "RangeIndex: 13075 entries, 0 to 13074\n",
            "Data columns (total 8 columns):\n",
            " #   Column      Non-Null Count  Dtype   \n",
            "---  ------      --------------  -----   \n",
            " 0   stop_id     13075 non-null  int64   \n",
            " 1   pid_x       13075 non-null  int64   \n",
            " 2   resultkey   13075 non-null  int64   \n",
            " 3   result      12549 non-null  object  \n",
            " 4   code        9358 non-null   float64 \n",
            " 5   resulttext  9358 non-null   object  \n",
            " 6   pid_y       13075 non-null  int64   \n",
            " 7   race        13075 non-null  category\n",
            "dtypes: category(1), float64(1), int64(4), object(2)\n",
            "memory usage: 728.3+ KB\n",
            "None\n",
            "stop_id          0\n",
            "pid_x            0\n",
            "resultkey        0\n",
            "result         526\n",
            "code          3717\n",
            "resulttext    3717\n",
            "pid_y            0\n",
            "race             0\n",
            "dtype: int64\n"
          ]
        }
      ]
    },
    {
      "cell_type": "markdown",
      "source": [
        "#Exploratory Data Analysis\n",
        "### We will explore the data by finding a model that will work best to determine if certain races in San Diego California have a higher rate of police stops."
      ],
      "metadata": {
        "id": "38A1V-kMwpcN"
      }
    },
    {
      "cell_type": "markdown",
      "source": [
        "`A review of the data`"
      ],
      "metadata": {
        "id": "_d42viqWy05x"
      }
    },
    {
      "cell_type": "code",
      "source": [
        "race_stop_counts = final_data['race'].value_counts()\n",
        "\n",
        "total_stops = final_data.shape[0]\n",
        "\n",
        "race_stop_percentages = (race_stop_counts / total_stops) * 100\n",
        "\n",
        "race_stop_percentage_df = pd.DataFrame({\n",
        "    'Race': race_stop_counts.index,\n",
        "    'Number of Stops': race_stop_counts.values,\n",
        "    'Percentage of Stops': race_stop_percentages.values\n",
        "})\n",
        "\n",
        "print(race_stop_percentage_df)"
      ],
      "metadata": {
        "colab": {
          "base_uri": "https://localhost:8080/"
        },
        "id": "SVAhlNv3Bg3K",
        "outputId": "688d9bf1-ae69-41d7-caf1-6b87269d90f0"
      },
      "execution_count": 367,
      "outputs": [
        {
          "output_type": "stream",
          "name": "stdout",
          "text": [
            "                            Race  Number of Stops  Percentage of Stops\n",
            "0             Hispanic/Latino(a)             4793            36.657744\n",
            "1                          White             4334            33.147228\n",
            "2         Black/African American             2353            17.996176\n",
            "3                          Asian              769             5.881453\n",
            "4  Middle Eastern or South Asian              538             4.114723\n",
            "5               Pacific Islander              176             1.346080\n",
            "6                Native American              106             0.810707\n",
            "7             Hispanic/Latine(x)                6             0.045889\n"
          ]
        }
      ]
    },
    {
      "cell_type": "code",
      "source": [
        "sd_pop"
      ],
      "metadata": {
        "colab": {
          "base_uri": "https://localhost:8080/",
          "height": 238
        },
        "id": "DV6-VA_VdgZj",
        "outputId": "8b3ae3af-41db-44c2-d8c5-8a0032d5c38b"
      },
      "execution_count": 368,
      "outputs": [
        {
          "output_type": "execute_result",
          "data": {
            "text/plain": [
              "       race  percentage  population\n",
              "0     White        46.8      649733\n",
              "1  Hispanic        33.4      463698\n",
              "2     Black         4.5       62474\n",
              "3     Asian         9.9      137443\n",
              "4     Other         5.4       74969"
            ],
            "text/html": [
              "\n",
              "  <div id=\"df-349f1103-9c9a-4a7a-996b-1d995175edaf\" class=\"colab-df-container\">\n",
              "    <div>\n",
              "<style scoped>\n",
              "    .dataframe tbody tr th:only-of-type {\n",
              "        vertical-align: middle;\n",
              "    }\n",
              "\n",
              "    .dataframe tbody tr th {\n",
              "        vertical-align: top;\n",
              "    }\n",
              "\n",
              "    .dataframe thead th {\n",
              "        text-align: right;\n",
              "    }\n",
              "</style>\n",
              "<table border=\"1\" class=\"dataframe\">\n",
              "  <thead>\n",
              "    <tr style=\"text-align: right;\">\n",
              "      <th></th>\n",
              "      <th>race</th>\n",
              "      <th>percentage</th>\n",
              "      <th>population</th>\n",
              "    </tr>\n",
              "  </thead>\n",
              "  <tbody>\n",
              "    <tr>\n",
              "      <th>0</th>\n",
              "      <td>White</td>\n",
              "      <td>46.8</td>\n",
              "      <td>649733</td>\n",
              "    </tr>\n",
              "    <tr>\n",
              "      <th>1</th>\n",
              "      <td>Hispanic</td>\n",
              "      <td>33.4</td>\n",
              "      <td>463698</td>\n",
              "    </tr>\n",
              "    <tr>\n",
              "      <th>2</th>\n",
              "      <td>Black</td>\n",
              "      <td>4.5</td>\n",
              "      <td>62474</td>\n",
              "    </tr>\n",
              "    <tr>\n",
              "      <th>3</th>\n",
              "      <td>Asian</td>\n",
              "      <td>9.9</td>\n",
              "      <td>137443</td>\n",
              "    </tr>\n",
              "    <tr>\n",
              "      <th>4</th>\n",
              "      <td>Other</td>\n",
              "      <td>5.4</td>\n",
              "      <td>74969</td>\n",
              "    </tr>\n",
              "  </tbody>\n",
              "</table>\n",
              "</div>\n",
              "    <div class=\"colab-df-buttons\">\n",
              "\n",
              "  <div class=\"colab-df-container\">\n",
              "    <button class=\"colab-df-convert\" onclick=\"convertToInteractive('df-349f1103-9c9a-4a7a-996b-1d995175edaf')\"\n",
              "            title=\"Convert this dataframe to an interactive table.\"\n",
              "            style=\"display:none;\">\n",
              "\n",
              "  <svg xmlns=\"http://www.w3.org/2000/svg\" height=\"24px\" viewBox=\"0 -960 960 960\">\n",
              "    <path d=\"M120-120v-720h720v720H120Zm60-500h600v-160H180v160Zm220 220h160v-160H400v160Zm0 220h160v-160H400v160ZM180-400h160v-160H180v160Zm440 0h160v-160H620v160ZM180-180h160v-160H180v160Zm440 0h160v-160H620v160Z\"/>\n",
              "  </svg>\n",
              "    </button>\n",
              "\n",
              "  <style>\n",
              "    .colab-df-container {\n",
              "      display:flex;\n",
              "      gap: 12px;\n",
              "    }\n",
              "\n",
              "    .colab-df-convert {\n",
              "      background-color: #E8F0FE;\n",
              "      border: none;\n",
              "      border-radius: 50%;\n",
              "      cursor: pointer;\n",
              "      display: none;\n",
              "      fill: #1967D2;\n",
              "      height: 32px;\n",
              "      padding: 0 0 0 0;\n",
              "      width: 32px;\n",
              "    }\n",
              "\n",
              "    .colab-df-convert:hover {\n",
              "      background-color: #E2EBFA;\n",
              "      box-shadow: 0px 1px 2px rgba(60, 64, 67, 0.3), 0px 1px 3px 1px rgba(60, 64, 67, 0.15);\n",
              "      fill: #174EA6;\n",
              "    }\n",
              "\n",
              "    .colab-df-buttons div {\n",
              "      margin-bottom: 4px;\n",
              "    }\n",
              "\n",
              "    [theme=dark] .colab-df-convert {\n",
              "      background-color: #3B4455;\n",
              "      fill: #D2E3FC;\n",
              "    }\n",
              "\n",
              "    [theme=dark] .colab-df-convert:hover {\n",
              "      background-color: #434B5C;\n",
              "      box-shadow: 0px 1px 3px 1px rgba(0, 0, 0, 0.15);\n",
              "      filter: drop-shadow(0px 1px 2px rgba(0, 0, 0, 0.3));\n",
              "      fill: #FFFFFF;\n",
              "    }\n",
              "  </style>\n",
              "\n",
              "    <script>\n",
              "      const buttonEl =\n",
              "        document.querySelector('#df-349f1103-9c9a-4a7a-996b-1d995175edaf button.colab-df-convert');\n",
              "      buttonEl.style.display =\n",
              "        google.colab.kernel.accessAllowed ? 'block' : 'none';\n",
              "\n",
              "      async function convertToInteractive(key) {\n",
              "        const element = document.querySelector('#df-349f1103-9c9a-4a7a-996b-1d995175edaf');\n",
              "        const dataTable =\n",
              "          await google.colab.kernel.invokeFunction('convertToInteractive',\n",
              "                                                    [key], {});\n",
              "        if (!dataTable) return;\n",
              "\n",
              "        const docLinkHtml = 'Like what you see? Visit the ' +\n",
              "          '<a target=\"_blank\" href=https://colab.research.google.com/notebooks/data_table.ipynb>data table notebook</a>'\n",
              "          + ' to learn more about interactive tables.';\n",
              "        element.innerHTML = '';\n",
              "        dataTable['output_type'] = 'display_data';\n",
              "        await google.colab.output.renderOutput(dataTable, element);\n",
              "        const docLink = document.createElement('div');\n",
              "        docLink.innerHTML = docLinkHtml;\n",
              "        element.appendChild(docLink);\n",
              "      }\n",
              "    </script>\n",
              "  </div>\n",
              "\n",
              "\n",
              "<div id=\"df-fc4531ee-55c2-46be-91c1-8d0e9bb619e1\">\n",
              "  <button class=\"colab-df-quickchart\" onclick=\"quickchart('df-fc4531ee-55c2-46be-91c1-8d0e9bb619e1')\"\n",
              "            title=\"Suggest charts\"\n",
              "            style=\"display:none;\">\n",
              "\n",
              "<svg xmlns=\"http://www.w3.org/2000/svg\" height=\"24px\"viewBox=\"0 0 24 24\"\n",
              "     width=\"24px\">\n",
              "    <g>\n",
              "        <path d=\"M19 3H5c-1.1 0-2 .9-2 2v14c0 1.1.9 2 2 2h14c1.1 0 2-.9 2-2V5c0-1.1-.9-2-2-2zM9 17H7v-7h2v7zm4 0h-2V7h2v10zm4 0h-2v-4h2v4z\"/>\n",
              "    </g>\n",
              "</svg>\n",
              "  </button>\n",
              "\n",
              "<style>\n",
              "  .colab-df-quickchart {\n",
              "      --bg-color: #E8F0FE;\n",
              "      --fill-color: #1967D2;\n",
              "      --hover-bg-color: #E2EBFA;\n",
              "      --hover-fill-color: #174EA6;\n",
              "      --disabled-fill-color: #AAA;\n",
              "      --disabled-bg-color: #DDD;\n",
              "  }\n",
              "\n",
              "  [theme=dark] .colab-df-quickchart {\n",
              "      --bg-color: #3B4455;\n",
              "      --fill-color: #D2E3FC;\n",
              "      --hover-bg-color: #434B5C;\n",
              "      --hover-fill-color: #FFFFFF;\n",
              "      --disabled-bg-color: #3B4455;\n",
              "      --disabled-fill-color: #666;\n",
              "  }\n",
              "\n",
              "  .colab-df-quickchart {\n",
              "    background-color: var(--bg-color);\n",
              "    border: none;\n",
              "    border-radius: 50%;\n",
              "    cursor: pointer;\n",
              "    display: none;\n",
              "    fill: var(--fill-color);\n",
              "    height: 32px;\n",
              "    padding: 0;\n",
              "    width: 32px;\n",
              "  }\n",
              "\n",
              "  .colab-df-quickchart:hover {\n",
              "    background-color: var(--hover-bg-color);\n",
              "    box-shadow: 0 1px 2px rgba(60, 64, 67, 0.3), 0 1px 3px 1px rgba(60, 64, 67, 0.15);\n",
              "    fill: var(--button-hover-fill-color);\n",
              "  }\n",
              "\n",
              "  .colab-df-quickchart-complete:disabled,\n",
              "  .colab-df-quickchart-complete:disabled:hover {\n",
              "    background-color: var(--disabled-bg-color);\n",
              "    fill: var(--disabled-fill-color);\n",
              "    box-shadow: none;\n",
              "  }\n",
              "\n",
              "  .colab-df-spinner {\n",
              "    border: 2px solid var(--fill-color);\n",
              "    border-color: transparent;\n",
              "    border-bottom-color: var(--fill-color);\n",
              "    animation:\n",
              "      spin 1s steps(1) infinite;\n",
              "  }\n",
              "\n",
              "  @keyframes spin {\n",
              "    0% {\n",
              "      border-color: transparent;\n",
              "      border-bottom-color: var(--fill-color);\n",
              "      border-left-color: var(--fill-color);\n",
              "    }\n",
              "    20% {\n",
              "      border-color: transparent;\n",
              "      border-left-color: var(--fill-color);\n",
              "      border-top-color: var(--fill-color);\n",
              "    }\n",
              "    30% {\n",
              "      border-color: transparent;\n",
              "      border-left-color: var(--fill-color);\n",
              "      border-top-color: var(--fill-color);\n",
              "      border-right-color: var(--fill-color);\n",
              "    }\n",
              "    40% {\n",
              "      border-color: transparent;\n",
              "      border-right-color: var(--fill-color);\n",
              "      border-top-color: var(--fill-color);\n",
              "    }\n",
              "    60% {\n",
              "      border-color: transparent;\n",
              "      border-right-color: var(--fill-color);\n",
              "    }\n",
              "    80% {\n",
              "      border-color: transparent;\n",
              "      border-right-color: var(--fill-color);\n",
              "      border-bottom-color: var(--fill-color);\n",
              "    }\n",
              "    90% {\n",
              "      border-color: transparent;\n",
              "      border-bottom-color: var(--fill-color);\n",
              "    }\n",
              "  }\n",
              "</style>\n",
              "\n",
              "  <script>\n",
              "    async function quickchart(key) {\n",
              "      const quickchartButtonEl =\n",
              "        document.querySelector('#' + key + ' button');\n",
              "      quickchartButtonEl.disabled = true;  // To prevent multiple clicks.\n",
              "      quickchartButtonEl.classList.add('colab-df-spinner');\n",
              "      try {\n",
              "        const charts = await google.colab.kernel.invokeFunction(\n",
              "            'suggestCharts', [key], {});\n",
              "      } catch (error) {\n",
              "        console.error('Error during call to suggestCharts:', error);\n",
              "      }\n",
              "      quickchartButtonEl.classList.remove('colab-df-spinner');\n",
              "      quickchartButtonEl.classList.add('colab-df-quickchart-complete');\n",
              "    }\n",
              "    (() => {\n",
              "      let quickchartButtonEl =\n",
              "        document.querySelector('#df-fc4531ee-55c2-46be-91c1-8d0e9bb619e1 button');\n",
              "      quickchartButtonEl.style.display =\n",
              "        google.colab.kernel.accessAllowed ? 'block' : 'none';\n",
              "    })();\n",
              "  </script>\n",
              "</div>\n",
              "\n",
              "  <div id=\"id_4f7586a1-3b4d-41d2-b729-3d95ac8043bc\">\n",
              "    <style>\n",
              "      .colab-df-generate {\n",
              "        background-color: #E8F0FE;\n",
              "        border: none;\n",
              "        border-radius: 50%;\n",
              "        cursor: pointer;\n",
              "        display: none;\n",
              "        fill: #1967D2;\n",
              "        height: 32px;\n",
              "        padding: 0 0 0 0;\n",
              "        width: 32px;\n",
              "      }\n",
              "\n",
              "      .colab-df-generate:hover {\n",
              "        background-color: #E2EBFA;\n",
              "        box-shadow: 0px 1px 2px rgba(60, 64, 67, 0.3), 0px 1px 3px 1px rgba(60, 64, 67, 0.15);\n",
              "        fill: #174EA6;\n",
              "      }\n",
              "\n",
              "      [theme=dark] .colab-df-generate {\n",
              "        background-color: #3B4455;\n",
              "        fill: #D2E3FC;\n",
              "      }\n",
              "\n",
              "      [theme=dark] .colab-df-generate:hover {\n",
              "        background-color: #434B5C;\n",
              "        box-shadow: 0px 1px 3px 1px rgba(0, 0, 0, 0.15);\n",
              "        filter: drop-shadow(0px 1px 2px rgba(0, 0, 0, 0.3));\n",
              "        fill: #FFFFFF;\n",
              "      }\n",
              "    </style>\n",
              "    <button class=\"colab-df-generate\" onclick=\"generateWithVariable('sd_pop')\"\n",
              "            title=\"Generate code using this dataframe.\"\n",
              "            style=\"display:none;\">\n",
              "\n",
              "  <svg xmlns=\"http://www.w3.org/2000/svg\" height=\"24px\"viewBox=\"0 0 24 24\"\n",
              "       width=\"24px\">\n",
              "    <path d=\"M7,19H8.4L18.45,9,17,7.55,7,17.6ZM5,21V16.75L18.45,3.32a2,2,0,0,1,2.83,0l1.4,1.43a1.91,1.91,0,0,1,.58,1.4,1.91,1.91,0,0,1-.58,1.4L9.25,21ZM18.45,9,17,7.55Zm-12,3A5.31,5.31,0,0,0,4.9,8.1,5.31,5.31,0,0,0,1,6.5,5.31,5.31,0,0,0,4.9,4.9,5.31,5.31,0,0,0,6.5,1,5.31,5.31,0,0,0,8.1,4.9,5.31,5.31,0,0,0,12,6.5,5.46,5.46,0,0,0,6.5,12Z\"/>\n",
              "  </svg>\n",
              "    </button>\n",
              "    <script>\n",
              "      (() => {\n",
              "      const buttonEl =\n",
              "        document.querySelector('#id_4f7586a1-3b4d-41d2-b729-3d95ac8043bc button.colab-df-generate');\n",
              "      buttonEl.style.display =\n",
              "        google.colab.kernel.accessAllowed ? 'block' : 'none';\n",
              "\n",
              "      buttonEl.onclick = () => {\n",
              "        google.colab.notebook.generateWithVariable('sd_pop');\n",
              "      }\n",
              "      })();\n",
              "    </script>\n",
              "  </div>\n",
              "\n",
              "    </div>\n",
              "  </div>\n"
            ],
            "application/vnd.google.colaboratory.intrinsic+json": {
              "type": "dataframe",
              "variable_name": "sd_pop",
              "summary": "{\n  \"name\": \"sd_pop\",\n  \"rows\": 5,\n  \"fields\": [\n    {\n      \"column\": \"race\",\n      \"properties\": {\n        \"dtype\": \"string\",\n        \"num_unique_values\": 5,\n        \"samples\": [\n          \"Hispanic\",\n          \"Other\",\n          \"Black\"\n        ],\n        \"semantic_type\": \"\",\n        \"description\": \"\"\n      }\n    },\n    {\n      \"column\": \"percentage\",\n      \"properties\": {\n        \"dtype\": \"number\",\n        \"std\": 19.060561376832528,\n        \"min\": 4.5,\n        \"max\": 46.8,\n        \"num_unique_values\": 5,\n        \"samples\": [\n          33.4,\n          5.4,\n          4.5\n        ],\n        \"semantic_type\": \"\",\n        \"description\": \"\"\n      }\n    },\n    {\n      \"column\": \"population\",\n      \"properties\": {\n        \"dtype\": \"number\",\n        \"std\": 264621,\n        \"min\": 62474,\n        \"max\": 649733,\n        \"num_unique_values\": 5,\n        \"samples\": [\n          463698,\n          74969,\n          62474\n        ],\n        \"semantic_type\": \"\",\n        \"description\": \"\"\n      }\n    }\n  ]\n}"
            }
          },
          "metadata": {},
          "execution_count": 368
        }
      ]
    },
    {
      "cell_type": "markdown",
      "source": [
        "`We use mapping to simplify race names and combine hispanic categories. We also narrow our dataset to the top 4 largest racial categories of police stops.`"
      ],
      "metadata": {
        "id": "WxrdOQbCzRZ9"
      }
    },
    {
      "cell_type": "code",
      "source": [
        "# Ensure both race columns are lowercase for consistency and remove any leading/trailing spaces\n",
        "race_stop_percentage_df['Race'] = race_stop_percentage_df['Race'].str.lower().str.strip()\n",
        "sd_pop['race'] = sd_pop['race'].str.lower().str.strip()\n",
        "\n",
        "# Update race mapping to combine hispanic/latino(a) and hispanic/latine(x) into hispanic\n",
        "race_mapping = {\n",
        "    'white': 'white',\n",
        "    'hispanic/latino(a)': 'hispanic',\n",
        "    'black/african american': 'black',\n",
        "    'asian': 'asian',\n",
        "    'hispanic/latine(x)': 'hispanic'\n",
        "}\n",
        "\n",
        "# Apply race mapping to final_data\n",
        "#final_data['race'] = final_data['race'].replace(race_mapping)\n",
        "\n",
        "# Apply race mapping to race_stop_percentage_df\n",
        "race_stop_percentage_df['Race'] = race_stop_percentage_df['Race'].replace(race_mapping)\n",
        "\n",
        "# Filter both dataframes to include only 'hispanic', 'white', 'black', and 'asian'\n",
        "desired_races = ['hispanic', 'white', 'black', 'asian']\n",
        "race_stop_percentage_df = race_stop_percentage_df[race_stop_percentage_df['Race'].isin(desired_races)]\n",
        "sd_pop = sd_pop[sd_pop['race'].isin(desired_races)]\n",
        "\n",
        "# Group by race to ensure combined entries for 'hispanic'\n",
        "race_stop_percentage_df = race_stop_percentage_df.groupby('Race', as_index=False).sum()\n",
        "race_stop_percentage_df = race_stop_percentage_df.rename(columns={'Race': 'race'})\n",
        "\n",
        "# Merge the filtered data\n",
        "merged_data = pd.merge(race_stop_percentage_df, sd_pop, on='race', how='inner')\n",
        "merged_data = merged_data.rename(columns={'percentage': 'Population_Percentage'})\n",
        "merged_data['Difference'] = merged_data['Percentage of Stops'] - merged_data['Population_Percentage']\n",
        "\n",
        "# Print the merged data to verify the output\n",
        "print(merged_data)\n",
        "\n"
      ],
      "metadata": {
        "colab": {
          "base_uri": "https://localhost:8080/"
        },
        "id": "WGeXVUEZeelH",
        "outputId": "61e5ef8d-b24d-4bf0-dc92-a446f519b48e"
      },
      "execution_count": 369,
      "outputs": [
        {
          "output_type": "stream",
          "name": "stdout",
          "text": [
            "       race  Number of Stops  Percentage of Stops  Population_Percentage  \\\n",
            "0     asian              769             5.881453                    9.9   \n",
            "1     black             2353            17.996176                    4.5   \n",
            "2  hispanic             4799            36.703633                   33.4   \n",
            "3     white             4334            33.147228                   46.8   \n",
            "\n",
            "   population  Difference  \n",
            "0      137443   -4.018547  \n",
            "1       62474   13.496176  \n",
            "2      463698    3.303633  \n",
            "3      649733  -13.652772  \n"
          ]
        }
      ]
    },
    {
      "cell_type": "markdown",
      "source": [
        "`(1) We begin by running our data, race of the individual stopped and result of the stop, through a logistic regression model using a test size of 20%, train size of 80%. We run the model on each racial category. This yields the following:\n",
        "\n",
        "Race: hispanic ; Accuracy: 0.6347992351816444\n",
        "\n",
        "Race: Pacific Islander ; Accuracy: 0.9854684512428298\n",
        "\n",
        "Race: white ; Accuracy: 0.6715105162523901\n",
        "\n",
        "Race: black ; Accuracy: 0.8175908221797323\n",
        "\n",
        "Race: asian ; Accuracy: 0.9445506692160612\n",
        "\n",
        "Race: Native American ; Accuracy: 0.9908221797323136\n",
        "\n",
        "Race: Middle Eastern or South Asian ; Accuracy: 0.9564053537284894"
      ],
      "metadata": {
        "id": "9RBX1CxawdWO"
      }
    },
    {
      "cell_type": "code",
      "source": [
        "from sklearn.model_selection import train_test_split\n",
        "from sklearn.linear_model import LogisticRegression\n",
        "from sklearn.preprocessing import StandardScaler\n",
        "\n",
        "# Get unique races  in dataset\n",
        "unique_races = final_data['race'].unique()\n",
        "\n",
        "# Initialize dictionary to store results for each race\n",
        "race_stop_counts = {}\n",
        "\n",
        "# Use loop over race and run log regression\n",
        "for race in unique_races:\n",
        "  # Create binary variable for current race(1 if race matches, 0 otherwise)\n",
        "  final_data[f'is_{race}'] = final_data['race'].apply(lambda x: 1 if x == race else 0)\n",
        "  # Set ind variable(X) using type of stop\n",
        "  X = pd.get_dummies(final_data['result'], drop_first=True)\n",
        "  # Set dep variable (y) 1 for this race, 0 for others\n",
        "  y = final_data[f'is_{race}']\n",
        "  # Train/Test Split\n",
        "  X_train, X_test, y_train, y_test = train_test_split(X, y, test_size=0.2, random_state=42)\n",
        "\n",
        "  # Fit log regression model\n",
        "  model = LogisticRegression(max_iter=1000)\n",
        "  model.fit(X_train, y_train)\n",
        "\n",
        "  # Predict\n",
        "  y_pred = model.predict(X_test)\n",
        "  y_pred_prob = model.predict_proba(X_test)[:, 1]\n",
        "\n",
        "  # Evaluate\n",
        "  accuracy = model.score(X_test, y_test)\n",
        "\n",
        "  # Coefficients\n",
        "  coefficients = pd.DataFrame(model.coef_, columns=X.columns)\n",
        "\n",
        "  # Store in dict\n",
        "  race_stop_counts[race] = {\n",
        "      'accuracy': accuracy,\n",
        "      'coefficients': coefficients\n",
        "  }\n",
        "\n",
        "# Display results for each race\n",
        "for race, result in race_stop_counts.items():\n",
        "  print(f\"Race: {race}\")\n",
        "  print(f\"Accuracy: {result['accuracy']}\")\n",
        ""
      ],
      "metadata": {
        "colab": {
          "base_uri": "https://localhost:8080/"
        },
        "collapsed": true,
        "id": "u-ANuvKXDLZd",
        "outputId": "858a0358-d07a-4839-bdc7-e848ce5ac193"
      },
      "execution_count": 370,
      "outputs": [
        {
          "output_type": "stream",
          "name": "stdout",
          "text": [
            "Race: Hispanic/Latino(a)\n",
            "Accuracy: 0.6351816443594647\n",
            "Race: Pacific Islander\n",
            "Accuracy: 0.9854684512428298\n",
            "Race: White\n",
            "Accuracy: 0.6715105162523901\n",
            "Race: Black/African American\n",
            "Accuracy: 0.8175908221797323\n",
            "Race: Asian\n",
            "Accuracy: 0.9445506692160612\n",
            "Race: Native American\n",
            "Accuracy: 0.9908221797323136\n",
            "Race: Middle Eastern or South Asian\n",
            "Accuracy: 0.9564053537284894\n",
            "Race: Hispanic/Latine(x)\n",
            "Accuracy: 0.9996175908221797\n"
          ]
        }
      ]
    },
    {
      "cell_type": "markdown",
      "source": [
        "`(2) At this point with our focus on the following racial groups: Asian, Black, Hispanic, and White. We plot the population percentage and percentage of stops by race to visualize the data. We can immediately see that blacks and hispanics have a higher percentage of stops compared to their population percentage."
      ],
      "metadata": {
        "id": "l9oXpucdwzSt"
      }
    },
    {
      "cell_type": "code",
      "source": [
        "\n",
        "import matplotlib.pyplot as plt\n",
        "import seaborn as sns\n",
        "\n",
        "# Set up the figure and axis\n",
        "plt.figure(figsize=(10,6))\n",
        "\n",
        "# Plot Population Percentage and Percentage of Stops for each race\n",
        "sns.barplot(x='race', y='Population_Percentage', data=merged_data, color='b', label='Population Percentage')\n",
        "sns.barplot(x='race', y='Percentage of Stops', data=merged_data, color='r', alpha=0.7, label='Percentage of Stops')\n",
        "\n",
        "# Add labels and title\n",
        "plt.title('Comparison of Police Stops vs Population Percentage by Race', fontsize=14)\n",
        "plt.xlabel('Race', fontsize=12)\n",
        "plt.ylabel('Percentage', fontsize=12)\n",
        "plt.legend()\n",
        "\n",
        "# Show the plot\n",
        "plt.tight_layout()\n",
        "plt.show()\n"
      ],
      "metadata": {
        "colab": {
          "base_uri": "https://localhost:8080/",
          "height": 608
        },
        "collapsed": true,
        "id": "PZFvVQISeEXl",
        "outputId": "3812b79a-4244-445d-dacb-c4d4ac8fb991"
      },
      "execution_count": 371,
      "outputs": [
        {
          "output_type": "display_data",
          "data": {
            "text/plain": [
              "<Figure size 1000x600 with 1 Axes>"
            ],
            "image/png": "[encoded data removed]"
          },
          "metadata": {}
        }
      ]
    },
    {
      "cell_type": "markdown",
      "source": [
        "`We now plot the comparison of population percentage and police stops by race. It is clear that Blacks and Hispanics are stopped proportionally higher than Asians and Whites."
      ],
      "metadata": {
        "id": "WJA5Eiqh1PSm"
      }
    },
    {
      "cell_type": "code",
      "source": [
        "import matplotlib.pyplot as plt\n",
        "import numpy as np\n",
        "\n",
        "# Data for races\n",
        "races = merged_data['race']\n",
        "population_percentage = merged_data['Population_Percentage']\n",
        "stops_percentage = merged_data['Percentage of Stops']\n",
        "\n",
        "# Plot settings\n",
        "fig, ax = plt.subplots(figsize=(10, 6))\n",
        "bar_width = 0.35\n",
        "index = np.arange(len(races))\n",
        "\n",
        "# Bars for population and stops\n",
        "bar1 = plt.bar(index, population_percentage, bar_width, label='Population Percentage')\n",
        "bar2 = plt.bar(index + bar_width, stops_percentage, bar_width, label='Percentage of Stops')\n",
        "\n",
        "# Add labels and title\n",
        "plt.xlabel('Race', fontsize=12)\n",
        "plt.ylabel('Percentage', fontsize=12)\n",
        "plt.title('Comparison of Population Percentage and Police Stops by Race', fontsize=14)\n",
        "plt.xticks(index + bar_width / 2, races)\n",
        "plt.legend()\n",
        "\n",
        "# Show plot\n",
        "plt.tight_layout()\n",
        "plt.show()\n"
      ],
      "metadata": {
        "colab": {
          "base_uri": "https://localhost:8080/",
          "height": 608
        },
        "id": "fMK5Me89iEJJ",
        "outputId": "5484310a-dc4e-4579-aec3-f437c3e9339a"
      },
      "execution_count": 372,
      "outputs": [
        {
          "output_type": "display_data",
          "data": {
            "text/plain": [
              "<Figure size 1000x600 with 1 Axes>"
            ],
            "image/png": "[encoded data removed]"
          },
          "metadata": {}
        }
      ]
    },
    {
      "cell_type": "code",
      "source": [
        "# Plot the difference between Percentage of Stops and Population Percentage\n",
        "plt.figure(figsize=(10, 6))\n",
        "plt.bar(races, merged_data['Difference'], color='purple')\n",
        "\n",
        "# Add labels and title\n",
        "plt.xlabel('Race', fontsize=12)\n",
        "plt.ylabel('Difference in Percentage', fontsize=12)\n",
        "plt.title('Difference Between Police Stops and Population by Race', fontsize=14)\n",
        "\n",
        "# Show plot\n",
        "plt.tight_layout()\n",
        "plt.show()\n"
      ],
      "metadata": {
        "colab": {
          "base_uri": "https://localhost:8080/",
          "height": 608
        },
        "id": "ChAxHs44iIJK",
        "outputId": "d5e51c67-43c0-40a5-db24-880de12b0b8f"
      },
      "execution_count": 373,
      "outputs": [
        {
          "output_type": "display_data",
          "data": {
            "text/plain": [
              "<Figure size 1000x600 with 1 Axes>"
            ],
            "image/png": "[encoded data removed]"
          },
          "metadata": {}
        }
      ]
    },
    {
      "cell_type": "code",
      "source": [
        "# Pie chart for Population Percentage\n",
        "plt.figure(figsize=(12, 6))\n",
        "\n",
        "plt.subplot(1, 2, 1)\n",
        "plt.pie(population_percentage, labels=races, autopct='%1.1f%%', startangle=140)\n",
        "plt.title('Population Distribution by Race')\n",
        "\n",
        "# Pie chart for Percentage of Stops\n",
        "plt.subplot(1, 2, 2)\n",
        "plt.pie(stops_percentage, labels=races, autopct='%1.1f%%', startangle=140)\n",
        "plt.title('Police Stops Distribution by Race')\n",
        "\n",
        "# Show plot\n",
        "plt.tight_layout()\n",
        "plt.show()\n"
      ],
      "metadata": {
        "colab": {
          "base_uri": "https://localhost:8080/",
          "height": 626
        },
        "id": "4ZdHOFlriSAr",
        "outputId": "f193c983-539c-4e51-c75c-1ee2fd54bc15"
      },
      "execution_count": 374,
      "outputs": [
        {
          "output_type": "display_data",
          "data": {
            "text/plain": [
              "<Figure size 1200x600 with 2 Axes>"
            ],
            "image/png": "[encoded data removed]"
          },
          "metadata": {}
        }
      ]
    },
    {
      "cell_type": "markdown",
      "source": [
        "` We use logistic regression to predict the probability of racial groups being stopped by police. Logistic regression does not yield great results and only shows a 50% chance for all racial groups of being stopped. This leads me to believe that logistic regression may not be the best model to predict for our data."
      ],
      "metadata": {
        "id": "BE-j5kcGv3O3"
      }
    },
    {
      "cell_type": "code",
      "source": [
        "from sklearn.model_selection import StratifiedShuffleSplit\n",
        "from sklearn.linear_model import LogisticRegression\n",
        "from sklearn.preprocessing import OneHotEncoder\n",
        "\n",
        "\n",
        "# Set the target variable (y) based on whether Percentage of Stops > Population Percentage\n",
        "y = (merged_data['Percentage of Stops'] > merged_data['Population_Percentage']).astype(int)\n",
        "\n",
        "# One-hot encode the 'race' column to create dummy variables\n",
        "encoder = OneHotEncoder(drop='first')\n",
        "X = encoder.fit_transform(merged_data[['race']])\n",
        "\n",
        "# Use StratifiedShuffleSplit to ensure all races are represented in both train and test sets\n",
        "# Increase the test_size further to ensure representation (use 50% for better balance)\n",
        "sss = StratifiedShuffleSplit(n_splits=1, test_size=0.5, random_state=42)\n",
        "\n",
        "for train_index, test_index in sss.split(X, y):\n",
        "    X_train, X_test = X[train_index], X[test_index]\n",
        "    y_train, y_test = y[train_index], y[test_index]\n",
        "\n",
        "# Check the distribution of target classes to ensure all races are represented\n",
        "print(\"Training target distribution:\", y_train.value_counts())\n",
        "print(\"Test target distribution:\", y_test.value_counts())\n",
        "\n",
        "# Instantiate and fit the logistic regression model\n",
        "log_reg = LogisticRegression()\n",
        "log_reg.fit(X_train, y_train)\n",
        "\n",
        "# Evaluate the model\n",
        "train_accuracy = log_reg.score(X_train, y_train)\n",
        "test_accuracy = log_reg.score(X_test, y_test)\n",
        "\n",
        "# Print accuracy\n",
        "print(f\"Training Accuracy: {train_accuracy:.2f}\")\n",
        "print(f\"Test Accuracy: {test_accuracy:.2f}\")\n",
        "\n",
        "# Get probabilities of being stopped by race\n",
        "probabilities = log_reg.predict_proba(X_test)[:, 1]  # Probability of being stopped\n",
        "\n",
        "# Flatten races after inverse transforming from one-hot encoding\n",
        "races = encoder.inverse_transform(X_test).flatten()\n",
        "\n",
        "# Create a DataFrame to store the results\n",
        "# Show probabilities for each race in test set\n",
        "predictions = pd.DataFrame({\n",
        "    'Race': races,\n",
        "    'Probability of Being Stopped': probabilities\n",
        "})\n",
        "\n",
        "# Display the predicted probabilities\n",
        "print(predictions)\n",
        "\n",
        "\n"
      ],
      "metadata": {
        "colab": {
          "base_uri": "https://localhost:8080/"
        },
        "id": "UzXH0BzSgomH",
        "outputId": "510de5b6-fddb-4921-842d-39e5888bef6a"
      },
      "execution_count": 375,
      "outputs": [
        {
          "output_type": "stream",
          "name": "stdout",
          "text": [
            "Training target distribution: 1    1\n",
            "0    1\n",
            "Name: count, dtype: int64\n",
            "Test target distribution: 1    1\n",
            "0    1\n",
            "Name: count, dtype: int64\n",
            "Training Accuracy: 1.00\n",
            "Test Accuracy: 0.50\n",
            "       Race  Probability of Being Stopped\n",
            "0  hispanic                           0.5\n",
            "1     asian                           0.5\n"
          ]
        }
      ]
    },
    {
      "cell_type": "markdown",
      "source": [
        "#Odds Ratio\n",
        "We continue our prediction testing using an Odds ratio. Due to the fact that Black and Hispanics percentage of being stopped by police is higher than their population percentage, it does not work well in its odds calculation."
      ],
      "metadata": {
        "id": "4W-1KiQpwDra"
      }
    },
    {
      "cell_type": "code",
      "source": [
        "# Calculate the odds of being stopped for each race\n",
        "odds_of_stops = {\n",
        "    race: stops_percentage.loc[race] / max((population_percentage.loc[race] - stops_percentage.loc[race]), 0.0001)\n",
        "    for race in stops_percentage.index\n",
        "}"
      ],
      "metadata": {
        "id": "Kxv5h50Raw8I"
      },
      "execution_count": 376,
      "outputs": []
    },
    {
      "cell_type": "code",
      "source": [
        "print(odds_of_stops)"
      ],
      "metadata": {
        "colab": {
          "base_uri": "https://localhost:8080/"
        },
        "id": "VoPbUTOFW_JR",
        "outputId": "b07a634d-b70c-4475-ec98-eedafdf3e66f"
      },
      "execution_count": 377,
      "outputs": [
        {
          "output_type": "stream",
          "name": "stdout",
          "text": [
            "{0: 1.4635771042489414, 1: 179961.75908221796, 2: 367036.32887189294, 3: 2.42787518906504}\n"
          ]
        }
      ]
    },
    {
      "cell_type": "code",
      "source": [
        "# Output the odds with race names\n",
        "race_names = ['asian', 'black', 'hispanic', 'white']\n",
        "\n",
        "# Output the odds with race names\n",
        "print(\"Odds of Being Stopped by Race:\")\n",
        "for idx, (race, odds) in enumerate(odds_of_stops.items()):\n",
        "    race_name = race_names[idx]\n",
        "    print(f\"{race_name.capitalize()}: {odds:.2f}\")"
      ],
      "metadata": {
        "colab": {
          "base_uri": "https://localhost:8080/"
        },
        "id": "ZswtBrLQPD6q",
        "outputId": "3e962e68-3e59-40cb-e30b-4b45e9213a6a"
      },
      "execution_count": 378,
      "outputs": [
        {
          "output_type": "stream",
          "name": "stdout",
          "text": [
            "Odds of Being Stopped by Race:\n",
            "Asian: 1.46\n",
            "Black: 179961.76\n",
            "Hispanic: 367036.33\n",
            "White: 2.43\n"
          ]
        }
      ]
    },
    {
      "cell_type": "code",
      "source": [
        "import matplotlib.pyplot as plt\n",
        "import seaborn as sns\n",
        "\n",
        "# Data for plotting odds of being stopped by race\n",
        "races = list(odds_of_stops.keys())\n",
        "odds_values = list(odds_of_stops.values())\n",
        "race_names = ['asian', 'black', 'hispanic', 'white']\n",
        "\n",
        "\n",
        "# Create the bar chart\n",
        "plt.figure(figsize=(10, 6))\n",
        "sns.barplot(x=races, y=odds_values, palette='coolwarm')\n",
        "plt.xticks(ticks=list(range(len(races))), labels=[race.capitalize() for race in race_names])\n",
        "\n",
        "# Add labels and title\n",
        "plt.title('Odds of Being Stopped by Race', fontsize=16)\n",
        "plt.xlabel('Race', fontsize=12)\n",
        "plt.ylabel('Odds of Being Stopped', fontsize=12)\n",
        "\n",
        "# Show the plot\n",
        "plt.tight_layout()\n",
        "plt.show()\n"
      ],
      "metadata": {
        "colab": {
          "base_uri": "https://localhost:8080/",
          "height": 714
        },
        "id": "1b9Fh8e6ipxu",
        "outputId": "4b092747-4fc0-4e38-8fcc-8b401a284748"
      },
      "execution_count": 379,
      "outputs": [
        {
          "output_type": "stream",
          "name": "stderr",
          "text": [
            "<ipython-input-379-2a9548edfe82>:12: FutureWarning: \n",
            "\n",
            "Passing `palette` without assigning `hue` is deprecated and will be removed in v0.14.0. Assign the `x` variable to `hue` and set `legend=False` for the same effect.\n",
            "\n",
            "  sns.barplot(x=races, y=odds_values, palette='coolwarm')\n"
          ]
        },
        {
          "output_type": "display_data",
          "data": {
            "text/plain": [
              "<Figure size 1000x600 with 1 Axes>"
            ],
            "image/png": "[encoded data removed]"
          },
          "metadata": {}
        }
      ]
    },
    {
      "cell_type": "markdown",
      "source": [
        "#Now we look at a linear regression model to see if this yields any useful information."
      ],
      "metadata": {
        "id": "jLgqhclEeidu"
      }
    },
    {
      "cell_type": "code",
      "source": [
        "merged_data.head()"
      ],
      "metadata": {
        "colab": {
          "base_uri": "https://localhost:8080/",
          "height": 202
        },
        "id": "N6OlaqJmfwgQ",
        "outputId": "ab4640ec-83e9-47a7-9d5e-a712ef1f8f2c"
      },
      "execution_count": 380,
      "outputs": [
        {
          "output_type": "execute_result",
          "data": {
            "text/plain": [
              "       race  Number of Stops  Percentage of Stops  Population_Percentage  \\\n",
              "0     asian              769             5.881453                    9.9   \n",
              "1     black             2353            17.996176                    4.5   \n",
              "2  hispanic             4799            36.703633                   33.4   \n",
              "3     white             4334            33.147228                   46.8   \n",
              "\n",
              "   population  Difference  \n",
              "0      137443   -4.018547  \n",
              "1       62474   13.496176  \n",
              "2      463698    3.303633  \n",
              "3      649733  -13.652772  "
            ],
            "text/html": [
              "\n",
              "  <div id=\"df-6ea5cadd-d9ef-48dd-91c7-cbe228774ad7\" class=\"colab-df-container\">\n",
              "    <div>\n",
              "<style scoped>\n",
              "    .dataframe tbody tr th:only-of-type {\n",
              "        vertical-align: middle;\n",
              "    }\n",
              "\n",
              "    .dataframe tbody tr th {\n",
              "        vertical-align: top;\n",
              "    }\n",
              "\n",
              "    .dataframe thead th {\n",
              "        text-align: right;\n",
              "    }\n",
              "</style>\n",
              "<table border=\"1\" class=\"dataframe\">\n",
              "  <thead>\n",
              "    <tr style=\"text-align: right;\">\n",
              "      <th></th>\n",
              "      <th>race</th>\n",
              "      <th>Number of Stops</th>\n",
              "      <th>Percentage of Stops</th>\n",
              "      <th>Population_Percentage</th>\n",
              "      <th>population</th>\n",
              "      <th>Difference</th>\n",
              "    </tr>\n",
              "  </thead>\n",
              "  <tbody>\n",
              "    <tr>\n",
              "      <th>0</th>\n",
              "      <td>asian</td>\n",
              "      <td>769</td>\n",
              "      <td>5.881453</td>\n",
              "      <td>9.9</td>\n",
              "      <td>137443</td>\n",
              "      <td>-4.018547</td>\n",
              "    </tr>\n",
              "    <tr>\n",
              "      <th>1</th>\n",
              "      <td>black</td>\n",
              "      <td>2353</td>\n",
              "      <td>17.996176</td>\n",
              "      <td>4.5</td>\n",
              "      <td>62474</td>\n",
              "      <td>13.496176</td>\n",
              "    </tr>\n",
              "    <tr>\n",
              "      <th>2</th>\n",
              "      <td>hispanic</td>\n",
              "      <td>4799</td>\n",
              "      <td>36.703633</td>\n",
              "      <td>33.4</td>\n",
              "      <td>463698</td>\n",
              "      <td>3.303633</td>\n",
              "    </tr>\n",
              "    <tr>\n",
              "      <th>3</th>\n",
              "      <td>white</td>\n",
              "      <td>4334</td>\n",
              "      <td>33.147228</td>\n",
              "      <td>46.8</td>\n",
              "      <td>649733</td>\n",
              "      <td>-13.652772</td>\n",
              "    </tr>\n",
              "  </tbody>\n",
              "</table>\n",
              "</div>\n",
              "    <div class=\"colab-df-buttons\">\n",
              "\n",
              "  <div class=\"colab-df-container\">\n",
              "    <button class=\"colab-df-convert\" onclick=\"convertToInteractive('df-6ea5cadd-d9ef-48dd-91c7-cbe228774ad7')\"\n",
              "            title=\"Convert this dataframe to an interactive table.\"\n",
              "            style=\"display:none;\">\n",
              "\n",
              "  <svg xmlns=\"http://www.w3.org/2000/svg\" height=\"24px\" viewBox=\"0 -960 960 960\">\n",
              "    <path d=\"M120-120v-720h720v720H120Zm60-500h600v-160H180v160Zm220 220h160v-160H400v160Zm0 220h160v-160H400v160ZM180-400h160v-160H180v160Zm440 0h160v-160H620v160ZM180-180h160v-160H180v160Zm440 0h160v-160H620v160Z\"/>\n",
              "  </svg>\n",
              "    </button>\n",
              "\n",
              "  <style>\n",
              "    .colab-df-container {\n",
              "      display:flex;\n",
              "      gap: 12px;\n",
              "    }\n",
              "\n",
              "    .colab-df-convert {\n",
              "      background-color: #E8F0FE;\n",
              "      border: none;\n",
              "      border-radius: 50%;\n",
              "      cursor: pointer;\n",
              "      display: none;\n",
              "      fill: #1967D2;\n",
              "      height: 32px;\n",
              "      padding: 0 0 0 0;\n",
              "      width: 32px;\n",
              "    }\n",
              "\n",
              "    .colab-df-convert:hover {\n",
              "      background-color: #E2EBFA;\n",
              "      box-shadow: 0px 1px 2px rgba(60, 64, 67, 0.3), 0px 1px 3px 1px rgba(60, 64, 67, 0.15);\n",
              "      fill: #174EA6;\n",
              "    }\n",
              "\n",
              "    .colab-df-buttons div {\n",
              "      margin-bottom: 4px;\n",
              "    }\n",
              "\n",
              "    [theme=dark] .colab-df-convert {\n",
              "      background-color: #3B4455;\n",
              "      fill: #D2E3FC;\n",
              "    }\n",
              "\n",
              "    [theme=dark] .colab-df-convert:hover {\n",
              "      background-color: #434B5C;\n",
              "      box-shadow: 0px 1px 3px 1px rgba(0, 0, 0, 0.15);\n",
              "      filter: drop-shadow(0px 1px 2px rgba(0, 0, 0, 0.3));\n",
              "      fill: #FFFFFF;\n",
              "    }\n",
              "  </style>\n",
              "\n",
              "    <script>\n",
              "      const buttonEl =\n",
              "        document.querySelector('#df-6ea5cadd-d9ef-48dd-91c7-cbe228774ad7 button.colab-df-convert');\n",
              "      buttonEl.style.display =\n",
              "        google.colab.kernel.accessAllowed ? 'block' : 'none';\n",
              "\n",
              "      async function convertToInteractive(key) {\n",
              "        const element = document.querySelector('#df-6ea5cadd-d9ef-48dd-91c7-cbe228774ad7');\n",
              "        const dataTable =\n",
              "          await google.colab.kernel.invokeFunction('convertToInteractive',\n",
              "                                                    [key], {});\n",
              "        if (!dataTable) return;\n",
              "\n",
              "        const docLinkHtml = 'Like what you see? Visit the ' +\n",
              "          '<a target=\"_blank\" href=https://colab.research.google.com/notebooks/data_table.ipynb>data table notebook</a>'\n",
              "          + ' to learn more about interactive tables.';\n",
              "        element.innerHTML = '';\n",
              "        dataTable['output_type'] = 'display_data';\n",
              "        await google.colab.output.renderOutput(dataTable, element);\n",
              "        const docLink = document.createElement('div');\n",
              "        docLink.innerHTML = docLinkHtml;\n",
              "        element.appendChild(docLink);\n",
              "      }\n",
              "    </script>\n",
              "  </div>\n",
              "\n",
              "\n",
              "<div id=\"df-aed25581-d99b-4985-b82a-b313d4a6c65d\">\n",
              "  <button class=\"colab-df-quickchart\" onclick=\"quickchart('df-aed25581-d99b-4985-b82a-b313d4a6c65d')\"\n",
              "            title=\"Suggest charts\"\n",
              "            style=\"display:none;\">\n",
              "\n",
              "<svg xmlns=\"http://www.w3.org/2000/svg\" height=\"24px\"viewBox=\"0 0 24 24\"\n",
              "     width=\"24px\">\n",
              "    <g>\n",
              "        <path d=\"M19 3H5c-1.1 0-2 .9-2 2v14c0 1.1.9 2 2 2h14c1.1 0 2-.9 2-2V5c0-1.1-.9-2-2-2zM9 17H7v-7h2v7zm4 0h-2V7h2v10zm4 0h-2v-4h2v4z\"/>\n",
              "    </g>\n",
              "</svg>\n",
              "  </button>\n",
              "\n",
              "<style>\n",
              "  .colab-df-quickchart {\n",
              "      --bg-color: #E8F0FE;\n",
              "      --fill-color: #1967D2;\n",
              "      --hover-bg-color: #E2EBFA;\n",
              "      --hover-fill-color: #174EA6;\n",
              "      --disabled-fill-color: #AAA;\n",
              "      --disabled-bg-color: #DDD;\n",
              "  }\n",
              "\n",
              "  [theme=dark] .colab-df-quickchart {\n",
              "      --bg-color: #3B4455;\n",
              "      --fill-color: #D2E3FC;\n",
              "      --hover-bg-color: #434B5C;\n",
              "      --hover-fill-color: #FFFFFF;\n",
              "      --disabled-bg-color: #3B4455;\n",
              "      --disabled-fill-color: #666;\n",
              "  }\n",
              "\n",
              "  .colab-df-quickchart {\n",
              "    background-color: var(--bg-color);\n",
              "    border: none;\n",
              "    border-radius: 50%;\n",
              "    cursor: pointer;\n",
              "    display: none;\n",
              "    fill: var(--fill-color);\n",
              "    height: 32px;\n",
              "    padding: 0;\n",
              "    width: 32px;\n",
              "  }\n",
              "\n",
              "  .colab-df-quickchart:hover {\n",
              "    background-color: var(--hover-bg-color);\n",
              "    box-shadow: 0 1px 2px rgba(60, 64, 67, 0.3), 0 1px 3px 1px rgba(60, 64, 67, 0.15);\n",
              "    fill: var(--button-hover-fill-color);\n",
              "  }\n",
              "\n",
              "  .colab-df-quickchart-complete:disabled,\n",
              "  .colab-df-quickchart-complete:disabled:hover {\n",
              "    background-color: var(--disabled-bg-color);\n",
              "    fill: var(--disabled-fill-color);\n",
              "    box-shadow: none;\n",
              "  }\n",
              "\n",
              "  .colab-df-spinner {\n",
              "    border: 2px solid var(--fill-color);\n",
              "    border-color: transparent;\n",
              "    border-bottom-color: var(--fill-color);\n",
              "    animation:\n",
              "      spin 1s steps(1) infinite;\n",
              "  }\n",
              "\n",
              "  @keyframes spin {\n",
              "    0% {\n",
              "      border-color: transparent;\n",
              "      border-bottom-color: var(--fill-color);\n",
              "      border-left-color: var(--fill-color);\n",
              "    }\n",
              "    20% {\n",
              "      border-color: transparent;\n",
              "      border-left-color: var(--fill-color);\n",
              "      border-top-color: var(--fill-color);\n",
              "    }\n",
              "    30% {\n",
              "      border-color: transparent;\n",
              "      border-left-color: var(--fill-color);\n",
              "      border-top-color: var(--fill-color);\n",
              "      border-right-color: var(--fill-color);\n",
              "    }\n",
              "    40% {\n",
              "      border-color: transparent;\n",
              "      border-right-color: var(--fill-color);\n",
              "      border-top-color: var(--fill-color);\n",
              "    }\n",
              "    60% {\n",
              "      border-color: transparent;\n",
              "      border-right-color: var(--fill-color);\n",
              "    }\n",
              "    80% {\n",
              "      border-color: transparent;\n",
              "      border-right-color: var(--fill-color);\n",
              "      border-bottom-color: var(--fill-color);\n",
              "    }\n",
              "    90% {\n",
              "      border-color: transparent;\n",
              "      border-bottom-color: var(--fill-color);\n",
              "    }\n",
              "  }\n",
              "</style>\n",
              "\n",
              "  <script>\n",
              "    async function quickchart(key) {\n",
              "      const quickchartButtonEl =\n",
              "        document.querySelector('#' + key + ' button');\n",
              "      quickchartButtonEl.disabled = true;  // To prevent multiple clicks.\n",
              "      quickchartButtonEl.classList.add('colab-df-spinner');\n",
              "      try {\n",
              "        const charts = await google.colab.kernel.invokeFunction(\n",
              "            'suggestCharts', [key], {});\n",
              "      } catch (error) {\n",
              "        console.error('Error during call to suggestCharts:', error);\n",
              "      }\n",
              "      quickchartButtonEl.classList.remove('colab-df-spinner');\n",
              "      quickchartButtonEl.classList.add('colab-df-quickchart-complete');\n",
              "    }\n",
              "    (() => {\n",
              "      let quickchartButtonEl =\n",
              "        document.querySelector('#df-aed25581-d99b-4985-b82a-b313d4a6c65d button');\n",
              "      quickchartButtonEl.style.display =\n",
              "        google.colab.kernel.accessAllowed ? 'block' : 'none';\n",
              "    })();\n",
              "  </script>\n",
              "</div>\n",
              "\n",
              "    </div>\n",
              "  </div>\n"
            ],
            "application/vnd.google.colaboratory.intrinsic+json": {
              "type": "dataframe",
              "variable_name": "merged_data",
              "summary": "{\n  \"name\": \"merged_data\",\n  \"rows\": 4,\n  \"fields\": [\n    {\n      \"column\": \"race\",\n      \"properties\": {\n        \"dtype\": \"string\",\n        \"num_unique_values\": 4,\n        \"samples\": [\n          \"black\",\n          \"white\",\n          \"asian\"\n        ],\n        \"semantic_type\": \"\",\n        \"description\": \"\"\n      }\n    },\n    {\n      \"column\": \"Number of Stops\",\n      \"properties\": {\n        \"dtype\": \"number\",\n        \"std\": 1861,\n        \"min\": 769,\n        \"max\": 4799,\n        \"num_unique_values\": 4,\n        \"samples\": [\n          2353,\n          4334,\n          769\n        ],\n        \"semantic_type\": \"\",\n        \"description\": \"\"\n      }\n    },\n    {\n      \"column\": \"Percentage of Stops\",\n      \"properties\": {\n        \"dtype\": \"number\",\n        \"std\": 14.237178601335765,\n        \"min\": 5.881453154875717,\n        \"max\": 36.70363288718929,\n        \"num_unique_values\": 4,\n        \"samples\": [\n          17.996175908221797,\n          33.14722753346081,\n          5.881453154875717\n        ],\n        \"semantic_type\": \"\",\n        \"description\": \"\"\n      }\n    },\n    {\n      \"column\": \"Population_Percentage\",\n      \"properties\": {\n        \"dtype\": \"number\",\n        \"std\": 19.889444436685505,\n        \"min\": 4.5,\n        \"max\": 46.8,\n        \"num_unique_values\": 4,\n        \"samples\": [\n          4.5,\n          46.8,\n          9.9\n        ],\n        \"semantic_type\": \"\",\n        \"description\": \"\"\n      }\n    },\n    {\n      \"column\": \"population\",\n      \"properties\": {\n        \"dtype\": \"number\",\n        \"std\": 276128,\n        \"min\": 62474,\n        \"max\": 649733,\n        \"num_unique_values\": 4,\n        \"samples\": [\n          62474,\n          649733,\n          137443\n        ],\n        \"semantic_type\": \"\",\n        \"description\": \"\"\n      }\n    },\n    {\n      \"column\": \"Difference\",\n      \"properties\": {\n        \"dtype\": \"number\",\n        \"std\": 11.480676323334926,\n        \"min\": -13.65277246653919,\n        \"max\": 13.496175908221797,\n        \"num_unique_values\": 4,\n        \"samples\": [\n          13.496175908221797,\n          -13.65277246653919,\n          -4.018546845124283\n        ],\n        \"semantic_type\": \"\",\n        \"description\": \"\"\n      }\n    }\n  ]\n}"
            }
          },
          "metadata": {},
          "execution_count": 380
        }
      ]
    },
    {
      "cell_type": "code",
      "source": [
        "# Fit GLM\n",
        "import statsmodels.api as sm\n",
        "\n",
        "# Independent variable (X)\n",
        "X = merged_data['Population_Percentage']\n",
        "\n",
        "# Add a constant to the model (intercept)\n",
        "X = sm.add_constant(X)\n",
        "\n",
        "# Dependent variable (Y)\n",
        "Y = merged_data['Percentage of Stops']\n",
        "\n",
        "# Fit the GLM (Generalized Linear Model) - here using identity link for linear regression\n",
        "glm_model = sm.GLM(Y, X, family=sm.families.Gaussian())\n",
        "glm_results = glm_model.fit()\n",
        "\n",
        "# Print out the summary of the model fit\n",
        "print(glm_results.summary())\n"
      ],
      "metadata": {
        "colab": {
          "base_uri": "https://localhost:8080/"
        },
        "id": "nD3jOKCcehsO",
        "outputId": "d7a8bc0c-8614-4265-cf84-233e926a7526"
      },
      "execution_count": 381,
      "outputs": [
        {
          "output_type": "stream",
          "name": "stdout",
          "text": [
            "                  Generalized Linear Model Regression Results                  \n",
            "===============================================================================\n",
            "Dep. Variable:     Percentage of Stops   No. Observations:                    4\n",
            "Model:                             GLM   Df Residuals:                        2\n",
            "Model Family:                 Gaussian   Df Model:                            1\n",
            "Link Function:                Identity   Scale:                          97.767\n",
            "Method:                           IRLS   Log-Likelihood:                -13.455\n",
            "Date:                 Fri, 18 Oct 2024   Deviance:                       195.53\n",
            "Time:                         23:00:57   Pearson chi2:                     196.\n",
            "No. Iterations:                      3   Pseudo R-squ. (CS):             0.7129\n",
            "Covariance Type:             nonrobust                                         \n",
            "=========================================================================================\n",
            "                            coef    std err          z      P>|z|      [0.025      0.975]\n",
            "-----------------------------------------------------------------------------------------\n",
            "const                     9.4880      8.398      1.130      0.259      -6.971      25.947\n",
            "Population_Percentage     0.5896      0.287      2.054      0.040       0.027       1.152\n",
            "=========================================================================================\n"
          ]
        }
      ]
    },
    {
      "cell_type": "code",
      "source": [
        "# Evaluate model fit Actual vs Predicted Stops by Race\n",
        "predicted_stops = glm_results.predict(X)\n",
        "\n",
        "plt.figure(figsize=(8,6))\n",
        "plt.scatter(merged_data['Population_Percentage'], merged_data['Percentage of Stops'], color='blue', label='Actual Stops')\n",
        "plt.plot(merged_data['Population_Percentage'], predicted_stops, color='red', label='Predicted Stops')\n",
        "plt.xlabel('Population Percentage by Race')\n",
        "plt.ylabel('Stops Percentage by Race')\n",
        "plt.title('Actual vs Predicted Stops Percentage by Race')\n",
        "plt.legend()\n",
        "plt.show()"
      ],
      "metadata": {
        "colab": {
          "base_uri": "https://localhost:8080/",
          "height": 564
        },
        "id": "GI3StuKegK0p",
        "outputId": "7b07cd24-e2e0-4d96-d340-573fd48354f1"
      },
      "execution_count": 382,
      "outputs": [
        {
          "output_type": "display_data",
          "data": {
            "text/plain": [
              "<Figure size 800x600 with 1 Axes>"
            ],
            "image/png": "[encoded data removed]"
          },
          "metadata": {}
        }
      ]
    },
    {
      "cell_type": "code",
      "source": [
        "from sklearn.metrics import r2_score\n",
        "\n",
        "# Calculate r-sqauared\n",
        "r_squared = r2_score(Y, predicted_stops)\n",
        "print(f'R-Squared: {r_squared:.2f}')\n",
        "\n",
        "# Error Plot to check for homoscedasticity\n",
        "residuals = Y - predicted_stops\n",
        "plt.figure(figsize=(8,6))\n",
        "plt.scatter(predicted_stops, residuals, color='blue')\n",
        "plt.axhline(y=0, color='red', linestyle='--')\n",
        "plt.xlabel('Predicted Stops Percentage')\n",
        "plt.ylabel('Residuals')\n",
        "plt.title('Residual Plot')\n",
        "plt.show()\n"
      ],
      "metadata": {
        "colab": {
          "base_uri": "https://localhost:8080/",
          "height": 585
        },
        "id": "WS-1LdcIg750",
        "outputId": "33ab68f4-0f0f-47ef-8235-067be470ea57"
      },
      "execution_count": 383,
      "outputs": [
        {
          "output_type": "stream",
          "name": "stdout",
          "text": [
            "R-Squared: 0.68\n"
          ]
        },
        {
          "output_type": "display_data",
          "data": {
            "text/plain": [
              "<Figure size 800x600 with 1 Axes>"
            ],
            "image/png": "[encoded data removed]"
          },
          "metadata": {}
        }
      ]
    },
    {
      "cell_type": "code",
      "source": [
        "merged_data.head()"
      ],
      "metadata": {
        "colab": {
          "base_uri": "https://localhost:8080/",
          "height": 202
        },
        "id": "Vka6dxbJjpD5",
        "outputId": "560a71f0-5075-4d41-a51a-f13dbb579aef"
      },
      "execution_count": 384,
      "outputs": [
        {
          "output_type": "execute_result",
          "data": {
            "text/plain": [
              "       race  Number of Stops  Percentage of Stops  Population_Percentage  \\\n",
              "0     asian              769             5.881453                    9.9   \n",
              "1     black             2353            17.996176                    4.5   \n",
              "2  hispanic             4799            36.703633                   33.4   \n",
              "3     white             4334            33.147228                   46.8   \n",
              "\n",
              "   population  Difference  \n",
              "0      137443   -4.018547  \n",
              "1       62474   13.496176  \n",
              "2      463698    3.303633  \n",
              "3      649733  -13.652772  "
            ],
            "text/html": [
              "\n",
              "  <div id=\"df-45eab774-819f-409a-9784-009a1d54acc7\" class=\"colab-df-container\">\n",
              "    <div>\n",
              "<style scoped>\n",
              "    .dataframe tbody tr th:only-of-type {\n",
              "        vertical-align: middle;\n",
              "    }\n",
              "\n",
              "    .dataframe tbody tr th {\n",
              "        vertical-align: top;\n",
              "    }\n",
              "\n",
              "    .dataframe thead th {\n",
              "        text-align: right;\n",
              "    }\n",
              "</style>\n",
              "<table border=\"1\" class=\"dataframe\">\n",
              "  <thead>\n",
              "    <tr style=\"text-align: right;\">\n",
              "      <th></th>\n",
              "      <th>race</th>\n",
              "      <th>Number of Stops</th>\n",
              "      <th>Percentage of Stops</th>\n",
              "      <th>Population_Percentage</th>\n",
              "      <th>population</th>\n",
              "      <th>Difference</th>\n",
              "    </tr>\n",
              "  </thead>\n",
              "  <tbody>\n",
              "    <tr>\n",
              "      <th>0</th>\n",
              "      <td>asian</td>\n",
              "      <td>769</td>\n",
              "      <td>5.881453</td>\n",
              "      <td>9.9</td>\n",
              "      <td>137443</td>\n",
              "      <td>-4.018547</td>\n",
              "    </tr>\n",
              "    <tr>\n",
              "      <th>1</th>\n",
              "      <td>black</td>\n",
              "      <td>2353</td>\n",
              "      <td>17.996176</td>\n",
              "      <td>4.5</td>\n",
              "      <td>62474</td>\n",
              "      <td>13.496176</td>\n",
              "    </tr>\n",
              "    <tr>\n",
              "      <th>2</th>\n",
              "      <td>hispanic</td>\n",
              "      <td>4799</td>\n",
              "      <td>36.703633</td>\n",
              "      <td>33.4</td>\n",
              "      <td>463698</td>\n",
              "      <td>3.303633</td>\n",
              "    </tr>\n",
              "    <tr>\n",
              "      <th>3</th>\n",
              "      <td>white</td>\n",
              "      <td>4334</td>\n",
              "      <td>33.147228</td>\n",
              "      <td>46.8</td>\n",
              "      <td>649733</td>\n",
              "      <td>-13.652772</td>\n",
              "    </tr>\n",
              "  </tbody>\n",
              "</table>\n",
              "</div>\n",
              "    <div class=\"colab-df-buttons\">\n",
              "\n",
              "  <div class=\"colab-df-container\">\n",
              "    <button class=\"colab-df-convert\" onclick=\"convertToInteractive('df-45eab774-819f-409a-9784-009a1d54acc7')\"\n",
              "            title=\"Convert this dataframe to an interactive table.\"\n",
              "            style=\"display:none;\">\n",
              "\n",
              "  <svg xmlns=\"http://www.w3.org/2000/svg\" height=\"24px\" viewBox=\"0 -960 960 960\">\n",
              "    <path d=\"M120-120v-720h720v720H120Zm60-500h600v-160H180v160Zm220 220h160v-160H400v160Zm0 220h160v-160H400v160ZM180-400h160v-160H180v160Zm440 0h160v-160H620v160ZM180-180h160v-160H180v160Zm440 0h160v-160H620v160Z\"/>\n",
              "  </svg>\n",
              "    </button>\n",
              "\n",
              "  <style>\n",
              "    .colab-df-container {\n",
              "      display:flex;\n",
              "      gap: 12px;\n",
              "    }\n",
              "\n",
              "    .colab-df-convert {\n",
              "      background-color: #E8F0FE;\n",
              "      border: none;\n",
              "      border-radius: 50%;\n",
              "      cursor: pointer;\n",
              "      display: none;\n",
              "      fill: #1967D2;\n",
              "      height: 32px;\n",
              "      padding: 0 0 0 0;\n",
              "      width: 32px;\n",
              "    }\n",
              "\n",
              "    .colab-df-convert:hover {\n",
              "      background-color: #E2EBFA;\n",
              "      box-shadow: 0px 1px 2px rgba(60, 64, 67, 0.3), 0px 1px 3px 1px rgba(60, 64, 67, 0.15);\n",
              "      fill: #174EA6;\n",
              "    }\n",
              "\n",
              "    .colab-df-buttons div {\n",
              "      margin-bottom: 4px;\n",
              "    }\n",
              "\n",
              "    [theme=dark] .colab-df-convert {\n",
              "      background-color: #3B4455;\n",
              "      fill: #D2E3FC;\n",
              "    }\n",
              "\n",
              "    [theme=dark] .colab-df-convert:hover {\n",
              "      background-color: #434B5C;\n",
              "      box-shadow: 0px 1px 3px 1px rgba(0, 0, 0, 0.15);\n",
              "      filter: drop-shadow(0px 1px 2px rgba(0, 0, 0, 0.3));\n",
              "      fill: #FFFFFF;\n",
              "    }\n",
              "  </style>\n",
              "\n",
              "    <script>\n",
              "      const buttonEl =\n",
              "        document.querySelector('#df-45eab774-819f-409a-9784-009a1d54acc7 button.colab-df-convert');\n",
              "      buttonEl.style.display =\n",
              "        google.colab.kernel.accessAllowed ? 'block' : 'none';\n",
              "\n",
              "      async function convertToInteractive(key) {\n",
              "        const element = document.querySelector('#df-45eab774-819f-409a-9784-009a1d54acc7');\n",
              "        const dataTable =\n",
              "          await google.colab.kernel.invokeFunction('convertToInteractive',\n",
              "                                                    [key], {});\n",
              "        if (!dataTable) return;\n",
              "\n",
              "        const docLinkHtml = 'Like what you see? Visit the ' +\n",
              "          '<a target=\"_blank\" href=https://colab.research.google.com/notebooks/data_table.ipynb>data table notebook</a>'\n",
              "          + ' to learn more about interactive tables.';\n",
              "        element.innerHTML = '';\n",
              "        dataTable['output_type'] = 'display_data';\n",
              "        await google.colab.output.renderOutput(dataTable, element);\n",
              "        const docLink = document.createElement('div');\n",
              "        docLink.innerHTML = docLinkHtml;\n",
              "        element.appendChild(docLink);\n",
              "      }\n",
              "    </script>\n",
              "  </div>\n",
              "\n",
              "\n",
              "<div id=\"df-1ce1780b-f44f-486e-a9d1-02b9ca391578\">\n",
              "  <button class=\"colab-df-quickchart\" onclick=\"quickchart('df-1ce1780b-f44f-486e-a9d1-02b9ca391578')\"\n",
              "            title=\"Suggest charts\"\n",
              "            style=\"display:none;\">\n",
              "\n",
              "<svg xmlns=\"http://www.w3.org/2000/svg\" height=\"24px\"viewBox=\"0 0 24 24\"\n",
              "     width=\"24px\">\n",
              "    <g>\n",
              "        <path d=\"M19 3H5c-1.1 0-2 .9-2 2v14c0 1.1.9 2 2 2h14c1.1 0 2-.9 2-2V5c0-1.1-.9-2-2-2zM9 17H7v-7h2v7zm4 0h-2V7h2v10zm4 0h-2v-4h2v4z\"/>\n",
              "    </g>\n",
              "</svg>\n",
              "  </button>\n",
              "\n",
              "<style>\n",
              "  .colab-df-quickchart {\n",
              "      --bg-color: #E8F0FE;\n",
              "      --fill-color: #1967D2;\n",
              "      --hover-bg-color: #E2EBFA;\n",
              "      --hover-fill-color: #174EA6;\n",
              "      --disabled-fill-color: #AAA;\n",
              "      --disabled-bg-color: #DDD;\n",
              "  }\n",
              "\n",
              "  [theme=dark] .colab-df-quickchart {\n",
              "      --bg-color: #3B4455;\n",
              "      --fill-color: #D2E3FC;\n",
              "      --hover-bg-color: #434B5C;\n",
              "      --hover-fill-color: #FFFFFF;\n",
              "      --disabled-bg-color: #3B4455;\n",
              "      --disabled-fill-color: #666;\n",
              "  }\n",
              "\n",
              "  .colab-df-quickchart {\n",
              "    background-color: var(--bg-color);\n",
              "    border: none;\n",
              "    border-radius: 50%;\n",
              "    cursor: pointer;\n",
              "    display: none;\n",
              "    fill: var(--fill-color);\n",
              "    height: 32px;\n",
              "    padding: 0;\n",
              "    width: 32px;\n",
              "  }\n",
              "\n",
              "  .colab-df-quickchart:hover {\n",
              "    background-color: var(--hover-bg-color);\n",
              "    box-shadow: 0 1px 2px rgba(60, 64, 67, 0.3), 0 1px 3px 1px rgba(60, 64, 67, 0.15);\n",
              "    fill: var(--button-hover-fill-color);\n",
              "  }\n",
              "\n",
              "  .colab-df-quickchart-complete:disabled,\n",
              "  .colab-df-quickchart-complete:disabled:hover {\n",
              "    background-color: var(--disabled-bg-color);\n",
              "    fill: var(--disabled-fill-color);\n",
              "    box-shadow: none;\n",
              "  }\n",
              "\n",
              "  .colab-df-spinner {\n",
              "    border: 2px solid var(--fill-color);\n",
              "    border-color: transparent;\n",
              "    border-bottom-color: var(--fill-color);\n",
              "    animation:\n",
              "      spin 1s steps(1) infinite;\n",
              "  }\n",
              "\n",
              "  @keyframes spin {\n",
              "    0% {\n",
              "      border-color: transparent;\n",
              "      border-bottom-color: var(--fill-color);\n",
              "      border-left-color: var(--fill-color);\n",
              "    }\n",
              "    20% {\n",
              "      border-color: transparent;\n",
              "      border-left-color: var(--fill-color);\n",
              "      border-top-color: var(--fill-color);\n",
              "    }\n",
              "    30% {\n",
              "      border-color: transparent;\n",
              "      border-left-color: var(--fill-color);\n",
              "      border-top-color: var(--fill-color);\n",
              "      border-right-color: var(--fill-color);\n",
              "    }\n",
              "    40% {\n",
              "      border-color: transparent;\n",
              "      border-right-color: var(--fill-color);\n",
              "      border-top-color: var(--fill-color);\n",
              "    }\n",
              "    60% {\n",
              "      border-color: transparent;\n",
              "      border-right-color: var(--fill-color);\n",
              "    }\n",
              "    80% {\n",
              "      border-color: transparent;\n",
              "      border-right-color: var(--fill-color);\n",
              "      border-bottom-color: var(--fill-color);\n",
              "    }\n",
              "    90% {\n",
              "      border-color: transparent;\n",
              "      border-bottom-color: var(--fill-color);\n",
              "    }\n",
              "  }\n",
              "</style>\n",
              "\n",
              "  <script>\n",
              "    async function quickchart(key) {\n",
              "      const quickchartButtonEl =\n",
              "        document.querySelector('#' + key + ' button');\n",
              "      quickchartButtonEl.disabled = true;  // To prevent multiple clicks.\n",
              "      quickchartButtonEl.classList.add('colab-df-spinner');\n",
              "      try {\n",
              "        const charts = await google.colab.kernel.invokeFunction(\n",
              "            'suggestCharts', [key], {});\n",
              "      } catch (error) {\n",
              "        console.error('Error during call to suggestCharts:', error);\n",
              "      }\n",
              "      quickchartButtonEl.classList.remove('colab-df-spinner');\n",
              "      quickchartButtonEl.classList.add('colab-df-quickchart-complete');\n",
              "    }\n",
              "    (() => {\n",
              "      let quickchartButtonEl =\n",
              "        document.querySelector('#df-1ce1780b-f44f-486e-a9d1-02b9ca391578 button');\n",
              "      quickchartButtonEl.style.display =\n",
              "        google.colab.kernel.accessAllowed ? 'block' : 'none';\n",
              "    })();\n",
              "  </script>\n",
              "</div>\n",
              "\n",
              "    </div>\n",
              "  </div>\n"
            ],
            "application/vnd.google.colaboratory.intrinsic+json": {
              "type": "dataframe",
              "variable_name": "merged_data",
              "summary": "{\n  \"name\": \"merged_data\",\n  \"rows\": 4,\n  \"fields\": [\n    {\n      \"column\": \"race\",\n      \"properties\": {\n        \"dtype\": \"string\",\n        \"num_unique_values\": 4,\n        \"samples\": [\n          \"black\",\n          \"white\",\n          \"asian\"\n        ],\n        \"semantic_type\": \"\",\n        \"description\": \"\"\n      }\n    },\n    {\n      \"column\": \"Number of Stops\",\n      \"properties\": {\n        \"dtype\": \"number\",\n        \"std\": 1861,\n        \"min\": 769,\n        \"max\": 4799,\n        \"num_unique_values\": 4,\n        \"samples\": [\n          2353,\n          4334,\n          769\n        ],\n        \"semantic_type\": \"\",\n        \"description\": \"\"\n      }\n    },\n    {\n      \"column\": \"Percentage of Stops\",\n      \"properties\": {\n        \"dtype\": \"number\",\n        \"std\": 14.237178601335765,\n        \"min\": 5.881453154875717,\n        \"max\": 36.70363288718929,\n        \"num_unique_values\": 4,\n        \"samples\": [\n          17.996175908221797,\n          33.14722753346081,\n          5.881453154875717\n        ],\n        \"semantic_type\": \"\",\n        \"description\": \"\"\n      }\n    },\n    {\n      \"column\": \"Population_Percentage\",\n      \"properties\": {\n        \"dtype\": \"number\",\n        \"std\": 19.889444436685505,\n        \"min\": 4.5,\n        \"max\": 46.8,\n        \"num_unique_values\": 4,\n        \"samples\": [\n          4.5,\n          46.8,\n          9.9\n        ],\n        \"semantic_type\": \"\",\n        \"description\": \"\"\n      }\n    },\n    {\n      \"column\": \"population\",\n      \"properties\": {\n        \"dtype\": \"number\",\n        \"std\": 276128,\n        \"min\": 62474,\n        \"max\": 649733,\n        \"num_unique_values\": 4,\n        \"samples\": [\n          62474,\n          649733,\n          137443\n        ],\n        \"semantic_type\": \"\",\n        \"description\": \"\"\n      }\n    },\n    {\n      \"column\": \"Difference\",\n      \"properties\": {\n        \"dtype\": \"number\",\n        \"std\": 11.480676323334926,\n        \"min\": -13.65277246653919,\n        \"max\": 13.496175908221797,\n        \"num_unique_values\": 4,\n        \"samples\": [\n          13.496175908221797,\n          -13.65277246653919,\n          -4.018546845124283\n        ],\n        \"semantic_type\": \"\",\n        \"description\": \"\"\n      }\n    }\n  ]\n}"
            }
          },
          "metadata": {},
          "execution_count": 384
        }
      ]
    },
    {
      "cell_type": "code",
      "source": [
        "# Update race mapping to combine hispanic/latino(a) and hispanic/latine(x) into hispanic\n",
        "race_mapping = {\n",
        "    'White': 'white',\n",
        "    'Hispanic/Latino(a)': 'hispanic',\n",
        "    'Black/African American': 'black',\n",
        "    'Asian': 'asian',\n",
        "    'Hispanic/Latine(x)': 'hispanic'\n",
        "}\n",
        "\n",
        "# Apply race mapping to final_data\n",
        "final_data['race'] = final_data['race'].replace(race_mapping)"
      ],
      "metadata": {
        "colab": {
          "base_uri": "https://localhost:8080/"
        },
        "id": "JbUZHGHjjOlW",
        "outputId": "0fd647a2-8512-4037-9671-46fe078178cc"
      },
      "execution_count": 385,
      "outputs": [
        {
          "output_type": "stream",
          "name": "stderr",
          "text": [
            "<ipython-input-385-2e6de4457053>:11: FutureWarning: The behavior of Series.replace (and DataFrame.replace) with CategoricalDtype is deprecated. In a future version, replace will only be used for cases that preserve the categories. To change the categories, use ser.cat.rename_categories instead.\n",
            "  final_data['race'] = final_data['race'].replace(race_mapping)\n"
          ]
        }
      ]
    },
    {
      "cell_type": "code",
      "source": [
        "# Filter final_data to keep only the specified race categories\n",
        "final_data_filtered = final_data[final_data['race'].isin(['hispanic', 'white', 'black', 'asian'])]\n",
        "\n",
        "# If the 'race' column is categorical, remove unused categories\n",
        "if pd.api.types.is_categorical_dtype(final_data_filtered['race']):\n",
        "    final_data_filtered['race'] = final_data_filtered['race'].cat.remove_unused_categories()\n",
        "\n",
        "# Check the filtered result\n",
        "print(final_data_filtered['race'].unique())"
      ],
      "metadata": {
        "colab": {
          "base_uri": "https://localhost:8080/"
        },
        "id": "lMn5mnz9ltmw",
        "outputId": "835bc3d8-dca0-40c8-9473-807ec98f410c"
      },
      "execution_count": 386,
      "outputs": [
        {
          "output_type": "stream",
          "name": "stdout",
          "text": [
            "['hispanic', 'white', 'black', 'asian']\n",
            "Categories (4, object): ['asian', 'black', 'hispanic', 'white']\n"
          ]
        },
        {
          "output_type": "stream",
          "name": "stderr",
          "text": [
            "<ipython-input-386-3df0c8268d81>:5: DeprecationWarning: is_categorical_dtype is deprecated and will be removed in a future version. Use isinstance(dtype, pd.CategoricalDtype) instead\n",
            "  if pd.api.types.is_categorical_dtype(final_data_filtered['race']):\n",
            "<ipython-input-386-3df0c8268d81>:6: SettingWithCopyWarning: \n",
            "A value is trying to be set on a copy of a slice from a DataFrame.\n",
            "Try using .loc[row_indexer,col_indexer] = value instead\n",
            "\n",
            "See the caveats in the documentation: https://pandas.pydata.org/pandas-docs/stable/user_guide/indexing.html#returning-a-view-versus-a-copy\n",
            "  final_data_filtered['race'] = final_data_filtered['race'].cat.remove_unused_categories()\n"
          ]
        }
      ]
    },
    {
      "cell_type": "code",
      "source": [
        "combined_data = pd.merge(final_data_filtered, merged_data, on='race', how='inner')\n",
        "\n"
      ],
      "metadata": {
        "id": "BTMrd_ManAVR"
      },
      "execution_count": 387,
      "outputs": []
    },
    {
      "cell_type": "markdown",
      "source": [
        "#Chi-Square Test of Independence\n",
        "\n",
        "After completing the Chi-Squared test of independence\n",
        "The data from the Chi-Squared test of independence provides strong statistical significance of racial disparities in police stops in the city of San Diego. We see that there is a statistically significant difference from what would be expected based on racial representataion in the population.\n",
        "\n",
        "The Chi-Square statistic: 573.60\n",
        "This score quantifies the difference between the observed and expected police stops in the dataset. Due to the large value, this shows that there is a large deviation bwetween actual number of police stops and the expected number.\n",
        "\n",
        "P-Value: 3.12e-96 is close to zero, which is less than 0.05 and is considered statitically significant. This further quantifies that the actual police stops and expected police stops have a high difference.\n",
        "\n"
      ],
      "metadata": {
        "id": "Bo9AM-3kgjdm"
      }
    },
    {
      "cell_type": "code",
      "source": [
        "import scipy.stats as stats\n",
        "\n",
        "total_stops = combined_data['resultkey'].count()\n",
        "total_stops_white = combined_data[combined_data['race'] == 'white']['resultkey'].count()\n",
        "total_stops_black = combined_data[combined_data['race'] == 'black']['resultkey'].count()\n",
        "total_stops_hispanic = combined_data[combined_data['race'] == 'hispanic']['resultkey'].count()\n",
        "total_stops_asian = combined_data[combined_data['race'] == 'asian']['resultkey'].count()\n",
        "\n",
        "combined_data['expected_stops'] = (combined_data['Population_Percentage'] / 100) * total_stops\n",
        "\n",
        "chi_square_stat, p_value, dof, expected = stats.chi2_contingency(pd.crosstab(combined_data['race'], combined_data['resultkey']))\n",
        "\n",
        "print(\"Chi-Square Statistic:\", chi_square_stat)\n",
        "print(\"P-Value:\", p_value)\n",
        "\n",
        "\n",
        "# Filter combined_data for race\n",
        "filtered_data = combined_data[combined_data['race'].isin(['asian', 'black', 'hispanic', 'white'])]\n",
        "print(filtered_data[['race', 'Number of Stops', 'expected_stops']].head(4))"
      ],
      "metadata": {
        "colab": {
          "base_uri": "https://localhost:8080/"
        },
        "id": "HArNfBR7ghY-",
        "outputId": "96a9bb02-0a54-4a1d-aa25-8a7c3f131b14"
      },
      "execution_count": 388,
      "outputs": [
        {
          "output_type": "stream",
          "name": "stdout",
          "text": [
            "Chi-Square Statistic: 573.6042810252288\n",
            "P-Value: 3.123731834500944e-96\n",
            "       race  Number of Stops  expected_stops\n",
            "0  hispanic             4799        4093.170\n",
            "1     white             4334        5735.340\n",
            "2     black             2353         551.475\n",
            "3     asian              769        1213.245\n"
          ]
        }
      ]
    },
    {
      "cell_type": "code",
      "source": [
        "# Data from previous cell:\n",
        "data = {\n",
        "    'race': ['asian', 'black', 'hispanic', 'white'],\n",
        "    'Number of Stops': [769, 2353, 4799, 4334],\n",
        "    'expected_stops': [1213.245, 551.475, 4093.170, 5735.340]\n",
        "}\n",
        "\n",
        "# Create a DataFrame\n",
        "filtered_data = pd.DataFrame(data)\n",
        "\n",
        "# Plotting observed vs expected stops\n",
        "plt.figure(figsize=(10, 6))\n",
        "races = filtered_data['race']\n",
        "observed_stops = filtered_data['Number of Stops']\n",
        "expected_stops = filtered_data['expected_stops']\n",
        "\n",
        "x = range(len(races))\n",
        "\n",
        "plt.bar(x, observed_stops, width=0.4, label='Observed', align='center')\n",
        "plt.bar(x, expected_stops, width=0.4, label='Expected', align='edge')\n",
        "\n",
        "plt.xlabel('Race')\n",
        "plt.ylabel('Number of Stops')\n",
        "plt.xticks(ticks=x, labels=races)\n",
        "plt.title('Observed vs Expected Stops by Race')\n",
        "plt.legend()\n",
        "\n",
        "plt.show()\n"
      ],
      "metadata": {
        "colab": {
          "base_uri": "https://localhost:8080/",
          "height": 564
        },
        "id": "mnf7ucjkoLVZ",
        "outputId": "8656940e-e89d-4948-a564-aa2b3c4bd99f"
      },
      "execution_count": 389,
      "outputs": [
        {
          "output_type": "display_data",
          "data": {
            "text/plain": [
              "<Figure size 1000x600 with 1 Axes>"
            ],
            "image/png": "[encoded data removed]"
          },
          "metadata": {}
        }
      ]
    },
    {
      "cell_type": "code",
      "source": [
        "import matplotlib.pyplot as plt\n",
        "\n",
        "# Data from previous cell\n",
        "labels = ['asian', 'black', 'hispanic', 'white']\n",
        "sizes = [769, 2353, 4799, 4334]  # Number of stops\n",
        "colors = ['gold', 'yellowgreen', 'lightcoral', 'lightskyblue']\n",
        "\n",
        "# Create a pie chart\n",
        "plt.figure(figsize=(8, 8))\n",
        "plt.pie(sizes, labels=labels, colors=colors, autopct='%1.1f%%', startangle=140)\n",
        "\n",
        "# Add a title\n",
        "plt.title('Distribution of Police Stops by Race')\n",
        "\n",
        "# Show the chart\n",
        "plt.show()"
      ],
      "metadata": {
        "colab": {
          "base_uri": "https://localhost:8080/",
          "height": 676
        },
        "id": "pGlKK1zjrNl3",
        "outputId": "a9c622e5-cf8d-4dd3-997a-ae439da8d820"
      },
      "execution_count": 390,
      "outputs": [
        {
          "output_type": "display_data",
          "data": {
            "text/plain": [
              "<Figure size 800x800 with 1 Axes>"
            ],
            "image/png": "[encoded data removed]"
          },
          "metadata": {}
        }
      ]
    },
    {
      "cell_type": "code",
      "source": [
        "# Data from previous cell:\n",
        "data = {\n",
        "    'race': ['asian', 'black', 'hispanic', 'white'],\n",
        "    'Number of Stops': [769, 2353, 4799, 4334],\n",
        "    'expected_stops': [1213.245, 551.475, 4093.170, 5735.340]\n",
        "}\n",
        "\n",
        "# Create a DataFrame\n",
        "df = pd.DataFrame(data)\n",
        "\n",
        "# Stacked bar chart\n",
        "df.set_index('race').plot(kind='bar', stacked=True, figsize=(10, 6))\n",
        "\n",
        "plt.title('Stacked Bar Chart for Police Stops by Race and Result')\n",
        "plt.xlabel('Race')\n",
        "plt.ylabel('Number of Stops')\n",
        "plt.legend(title=\"Stop Result\", bbox_to_anchor=(1.05, 1), loc='upper left')\n",
        "plt.tight_layout()\n",
        "\n",
        "plt.show()"
      ],
      "metadata": {
        "colab": {
          "base_uri": "https://localhost:8080/",
          "height": 608
        },
        "id": "43PPONgksi5c",
        "outputId": "9048c341-9c0e-46b9-8ba3-445203e61b95"
      },
      "execution_count": 391,
      "outputs": [
        {
          "output_type": "display_data",
          "data": {
            "text/plain": [
              "<Figure size 1000x600 with 1 Axes>"
            ],
            "image/png": "[encoded data removed]"
          },
          "metadata": {}
        }
      ]
    }
  ]
}